{
 "cells": [
  {
   "cell_type": "markdown",
   "metadata": {
    "deletable": false,
    "editable": false,
    "nbgrader": {
     "cell_type": "markdown",
     "checksum": "5658c9a4ed21f362746fdaeb7fb21351",
     "grade": false,
     "grade_id": "preamble-name",
     "locked": true,
     "schema_version": 3,
     "solution": false,
     "task": false
    }
   },
   "source": [
    "# Unveiling Diabetic Trends: Exploring Lifestyle Patterns for Diagnosis Using Supervised Learning"
   ]
  },
  {
   "cell_type": "markdown",
   "metadata": {
    "deletable": false,
    "editable": false,
    "nbgrader": {
     "cell_type": "markdown",
     "checksum": "40e0c6343e3d6ae8ef5568125e9de64f",
     "grade": false,
     "grade_id": "task1-instructc",
     "locked": true,
     "schema_version": 3,
     "solution": false,
     "task": false
    }
   },
   "source": [
    "#### The following cell's code (import statements etc.) is provided for you and you should not need to change it."
   ]
  },
  {
   "cell_type": "code",
   "execution_count": 1,
   "metadata": {
    "deletable": false,
    "editable": false,
    "nbgrader": {
     "cell_type": "code",
     "checksum": "8a657110ad49635ac5f45bf6851cc7c0",
     "grade": false,
     "grade_id": "task1-code",
     "locked": true,
     "schema_version": 3,
     "solution": false,
     "task": false
    }
   },
   "outputs": [
    {
     "name": "stderr",
     "output_type": "stream",
     "text": [
      "/var/folders/z6/5n_s73l16t753clskkrk3n180000gq/T/ipykernel_78599/1886382061.py:7: DeprecationWarning: \n",
      "Pyarrow will become a required dependency of pandas in the next major release of pandas (pandas 3.0),\n",
      "(to allow more performant data types, such as the Arrow string type, and better interoperability with other libraries)\n",
      "but was not found to be installed on your system.\n",
      "If this would cause problems for you,\n",
      "please provide us feedback at https://github.com/pandas-dev/pandas/issues/54466\n",
      "        \n",
      "  import pandas as pd\n",
      "/Users/hansika/Documents/MLE/env/mle/lib/python3.9/site-packages/urllib3/__init__.py:35: NotOpenSSLWarning: urllib3 v2 only supports OpenSSL 1.1.1+, currently the 'ssl' module is compiled with 'LibreSSL 2.8.3'. See: https://github.com/urllib3/urllib3/issues/3020\n",
      "  warnings.warn(\n"
     ]
    },
    {
     "name": "stdout",
     "output_type": "stream",
     "text": [
      "------------\n",
      "### Python version: 3.9.6 (default, Nov 10 2023, 13:38:27) \n",
      "[Clang 15.0.0 (clang-1500.1.0.2.5)]\n",
      "### NumPy version: 1.26.3\n",
      "### Scikit-learn version: 1.4.0\n",
      "### Tensorflow version: 2.15.0\n",
      "------------\n"
     ]
    }
   ],
   "source": [
    "# Load packages we need\n",
    "import sys\n",
    "import os\n",
    "import time\n",
    "\n",
    "import numpy as np\n",
    "import pandas as pd\n",
    "import sklearn\n",
    "import seaborn as sns\n",
    "\n",
    "import tensorflow as tf\n",
    "import tensorflow.keras as keras\n",
    "\n",
    "from matplotlib import pyplot as plt\n",
    "plt.rcParams.update({'font.size': 14})\n",
    "\n",
    "# Load the TensorBoard notebook extension\n",
    "#%load_ext tensorboard\n",
    "\n",
    "\n",
    "# Let's check our software versions\n",
    "print('------------')\n",
    "print('### Python version: ' + __import__('sys').version)\n",
    "print('### NumPy version: ' + np.__version__)\n",
    "print('### Scikit-learn version: ' + sklearn.__version__)\n",
    "print('### Tensorflow version: ' + tf.__version__)\n",
    "print('------------')\n",
    "\n",
    "def var_exists(var_name):\n",
    "    return (var_name in globals() or var_name in locals())"
   ]
  },
  {
   "cell_type": "markdown",
   "metadata": {
    "deletable": false,
    "editable": false,
    "nbgrader": {
     "cell_type": "markdown",
     "checksum": "5cc6d3b909b447a027649ca1d83883d9",
     "grade": false,
     "grade_id": "seed_instruct",
     "locked": true,
     "schema_version": 3,
     "solution": false,
     "task": false
    }
   },
   "source": [
    "#### This is the seed we will use, do not change it."
   ]
  },
  {
   "cell_type": "code",
   "execution_count": 3,
   "metadata": {},
   "outputs": [],
   "source": [
    "# set the seed\n",
    "seed = 26\n",
    "np.random.seed(seed)\n",
    "\n",
    "epsf = 1e-9 # small epsilon value for floating point comparisons"
   ]
  },
  {
   "cell_type": "markdown",
   "metadata": {
    "deletable": false,
    "editable": false,
    "nbgrader": {
     "cell_type": "markdown",
     "checksum": "55e79f6c4e0ca8e58db9f96e844e8200",
     "grade": false,
     "grade_id": "task1-instructd",
     "locked": true,
     "schema_version": 3,
     "solution": false,
     "task": false
    }
   },
   "source": [
    "### Loading data"
   ]
  },
  {
   "cell_type": "code",
   "execution_count": 4,
   "metadata": {},
   "outputs": [
    {
     "name": "stdout",
     "output_type": "stream",
     "text": [
      "(253680, 22)\n"
     ]
    }
   ],
   "source": [
    "diabetes_data = pd.read_csv('diabetes_012_health_indicators_BRFSS2015.csv')\n",
    "print(diabetes_data.shape)"
   ]
  },
  {
   "cell_type": "code",
   "execution_count": 5,
   "metadata": {},
   "outputs": [
    {
     "data": {
      "text/html": [
       "<div>\n",
       "<style scoped>\n",
       "    .dataframe tbody tr th:only-of-type {\n",
       "        vertical-align: middle;\n",
       "    }\n",
       "\n",
       "    .dataframe tbody tr th {\n",
       "        vertical-align: top;\n",
       "    }\n",
       "\n",
       "    .dataframe thead th {\n",
       "        text-align: right;\n",
       "    }\n",
       "</style>\n",
       "<table border=\"1\" class=\"dataframe\">\n",
       "  <thead>\n",
       "    <tr style=\"text-align: right;\">\n",
       "      <th></th>\n",
       "      <th>Diabetes_012</th>\n",
       "      <th>HighBP</th>\n",
       "      <th>HighChol</th>\n",
       "      <th>CholCheck</th>\n",
       "      <th>BMI</th>\n",
       "      <th>Smoker</th>\n",
       "      <th>Stroke</th>\n",
       "      <th>HeartDiseaseorAttack</th>\n",
       "      <th>PhysActivity</th>\n",
       "      <th>Fruits</th>\n",
       "      <th>...</th>\n",
       "      <th>AnyHealthcare</th>\n",
       "      <th>NoDocbcCost</th>\n",
       "      <th>GenHlth</th>\n",
       "      <th>MentHlth</th>\n",
       "      <th>PhysHlth</th>\n",
       "      <th>DiffWalk</th>\n",
       "      <th>Sex</th>\n",
       "      <th>Age</th>\n",
       "      <th>Education</th>\n",
       "      <th>Income</th>\n",
       "    </tr>\n",
       "  </thead>\n",
       "  <tbody>\n",
       "    <tr>\n",
       "      <th>0</th>\n",
       "      <td>0.0</td>\n",
       "      <td>1.0</td>\n",
       "      <td>1.0</td>\n",
       "      <td>1.0</td>\n",
       "      <td>40.0</td>\n",
       "      <td>1.0</td>\n",
       "      <td>0.0</td>\n",
       "      <td>0.0</td>\n",
       "      <td>0.0</td>\n",
       "      <td>0.0</td>\n",
       "      <td>...</td>\n",
       "      <td>1.0</td>\n",
       "      <td>0.0</td>\n",
       "      <td>5.0</td>\n",
       "      <td>18.0</td>\n",
       "      <td>15.0</td>\n",
       "      <td>1.0</td>\n",
       "      <td>0.0</td>\n",
       "      <td>9.0</td>\n",
       "      <td>4.0</td>\n",
       "      <td>3.0</td>\n",
       "    </tr>\n",
       "    <tr>\n",
       "      <th>1</th>\n",
       "      <td>0.0</td>\n",
       "      <td>0.0</td>\n",
       "      <td>0.0</td>\n",
       "      <td>0.0</td>\n",
       "      <td>25.0</td>\n",
       "      <td>1.0</td>\n",
       "      <td>0.0</td>\n",
       "      <td>0.0</td>\n",
       "      <td>1.0</td>\n",
       "      <td>0.0</td>\n",
       "      <td>...</td>\n",
       "      <td>0.0</td>\n",
       "      <td>1.0</td>\n",
       "      <td>3.0</td>\n",
       "      <td>0.0</td>\n",
       "      <td>0.0</td>\n",
       "      <td>0.0</td>\n",
       "      <td>0.0</td>\n",
       "      <td>7.0</td>\n",
       "      <td>6.0</td>\n",
       "      <td>1.0</td>\n",
       "    </tr>\n",
       "    <tr>\n",
       "      <th>2</th>\n",
       "      <td>0.0</td>\n",
       "      <td>1.0</td>\n",
       "      <td>1.0</td>\n",
       "      <td>1.0</td>\n",
       "      <td>28.0</td>\n",
       "      <td>0.0</td>\n",
       "      <td>0.0</td>\n",
       "      <td>0.0</td>\n",
       "      <td>0.0</td>\n",
       "      <td>1.0</td>\n",
       "      <td>...</td>\n",
       "      <td>1.0</td>\n",
       "      <td>1.0</td>\n",
       "      <td>5.0</td>\n",
       "      <td>30.0</td>\n",
       "      <td>30.0</td>\n",
       "      <td>1.0</td>\n",
       "      <td>0.0</td>\n",
       "      <td>9.0</td>\n",
       "      <td>4.0</td>\n",
       "      <td>8.0</td>\n",
       "    </tr>\n",
       "    <tr>\n",
       "      <th>3</th>\n",
       "      <td>0.0</td>\n",
       "      <td>1.0</td>\n",
       "      <td>0.0</td>\n",
       "      <td>1.0</td>\n",
       "      <td>27.0</td>\n",
       "      <td>0.0</td>\n",
       "      <td>0.0</td>\n",
       "      <td>0.0</td>\n",
       "      <td>1.0</td>\n",
       "      <td>1.0</td>\n",
       "      <td>...</td>\n",
       "      <td>1.0</td>\n",
       "      <td>0.0</td>\n",
       "      <td>2.0</td>\n",
       "      <td>0.0</td>\n",
       "      <td>0.0</td>\n",
       "      <td>0.0</td>\n",
       "      <td>0.0</td>\n",
       "      <td>11.0</td>\n",
       "      <td>3.0</td>\n",
       "      <td>6.0</td>\n",
       "    </tr>\n",
       "    <tr>\n",
       "      <th>4</th>\n",
       "      <td>0.0</td>\n",
       "      <td>1.0</td>\n",
       "      <td>1.0</td>\n",
       "      <td>1.0</td>\n",
       "      <td>24.0</td>\n",
       "      <td>0.0</td>\n",
       "      <td>0.0</td>\n",
       "      <td>0.0</td>\n",
       "      <td>1.0</td>\n",
       "      <td>1.0</td>\n",
       "      <td>...</td>\n",
       "      <td>1.0</td>\n",
       "      <td>0.0</td>\n",
       "      <td>2.0</td>\n",
       "      <td>3.0</td>\n",
       "      <td>0.0</td>\n",
       "      <td>0.0</td>\n",
       "      <td>0.0</td>\n",
       "      <td>11.0</td>\n",
       "      <td>5.0</td>\n",
       "      <td>4.0</td>\n",
       "    </tr>\n",
       "  </tbody>\n",
       "</table>\n",
       "<p>5 rows × 22 columns</p>\n",
       "</div>"
      ],
      "text/plain": [
       "   Diabetes_012  HighBP  HighChol  CholCheck   BMI  Smoker  Stroke  \\\n",
       "0           0.0     1.0       1.0        1.0  40.0     1.0     0.0   \n",
       "1           0.0     0.0       0.0        0.0  25.0     1.0     0.0   \n",
       "2           0.0     1.0       1.0        1.0  28.0     0.0     0.0   \n",
       "3           0.0     1.0       0.0        1.0  27.0     0.0     0.0   \n",
       "4           0.0     1.0       1.0        1.0  24.0     0.0     0.0   \n",
       "\n",
       "   HeartDiseaseorAttack  PhysActivity  Fruits  ...  AnyHealthcare  \\\n",
       "0                   0.0           0.0     0.0  ...            1.0   \n",
       "1                   0.0           1.0     0.0  ...            0.0   \n",
       "2                   0.0           0.0     1.0  ...            1.0   \n",
       "3                   0.0           1.0     1.0  ...            1.0   \n",
       "4                   0.0           1.0     1.0  ...            1.0   \n",
       "\n",
       "   NoDocbcCost  GenHlth  MentHlth  PhysHlth  DiffWalk  Sex   Age  Education  \\\n",
       "0          0.0      5.0      18.0      15.0       1.0  0.0   9.0        4.0   \n",
       "1          1.0      3.0       0.0       0.0       0.0  0.0   7.0        6.0   \n",
       "2          1.0      5.0      30.0      30.0       1.0  0.0   9.0        4.0   \n",
       "3          0.0      2.0       0.0       0.0       0.0  0.0  11.0        3.0   \n",
       "4          0.0      2.0       3.0       0.0       0.0  0.0  11.0        5.0   \n",
       "\n",
       "   Income  \n",
       "0     3.0  \n",
       "1     1.0  \n",
       "2     8.0  \n",
       "3     6.0  \n",
       "4     4.0  \n",
       "\n",
       "[5 rows x 22 columns]"
      ]
     },
     "execution_count": 5,
     "metadata": {},
     "output_type": "execute_result"
    }
   ],
   "source": [
    "diabetes_data.head()"
   ]
  },
  {
   "cell_type": "code",
   "execution_count": 6,
   "metadata": {},
   "outputs": [
    {
     "name": "stdout",
     "output_type": "stream",
     "text": [
      "<class 'pandas.core.frame.DataFrame'>\n",
      "RangeIndex: 253680 entries, 0 to 253679\n",
      "Data columns (total 22 columns):\n",
      " #   Column                Non-Null Count   Dtype  \n",
      "---  ------                --------------   -----  \n",
      " 0   Diabetes_012          253680 non-null  float64\n",
      " 1   HighBP                253680 non-null  float64\n",
      " 2   HighChol              253680 non-null  float64\n",
      " 3   CholCheck             253680 non-null  float64\n",
      " 4   BMI                   253680 non-null  float64\n",
      " 5   Smoker                253680 non-null  float64\n",
      " 6   Stroke                253680 non-null  float64\n",
      " 7   HeartDiseaseorAttack  253680 non-null  float64\n",
      " 8   PhysActivity          253680 non-null  float64\n",
      " 9   Fruits                253680 non-null  float64\n",
      " 10  Veggies               253680 non-null  float64\n",
      " 11  HvyAlcoholConsump     253680 non-null  float64\n",
      " 12  AnyHealthcare         253680 non-null  float64\n",
      " 13  NoDocbcCost           253680 non-null  float64\n",
      " 14  GenHlth               253680 non-null  float64\n",
      " 15  MentHlth              253680 non-null  float64\n",
      " 16  PhysHlth              253680 non-null  float64\n",
      " 17  DiffWalk              253680 non-null  float64\n",
      " 18  Sex                   253680 non-null  float64\n",
      " 19  Age                   253680 non-null  float64\n",
      " 20  Education             253680 non-null  float64\n",
      " 21  Income                253680 non-null  float64\n",
      "dtypes: float64(22)\n",
      "memory usage: 42.6 MB\n"
     ]
    }
   ],
   "source": [
    "diabetes_data.info(verbose=True)"
   ]
  },
  {
   "cell_type": "code",
   "execution_count": 7,
   "metadata": {},
   "outputs": [
    {
     "name": "stdout",
     "output_type": "stream",
     "text": [
      "Shape : train x: (228312, 21) y: (228312, 3), val x: (12684, 21) y: (12684, 21), test shape: (12684, 21) y: (12684, 3)\n"
     ]
    }
   ],
   "source": [
    "from sklearn.model_selection import train_test_split\n",
    "from sklearn.preprocessing import StandardScaler\n",
    "\n",
    "\n",
    "def preprocess_data(data, onehot=True, test_val_prop=0.1, val_prop=0.5, seed=None, verbose=False):\n",
    "\n",
    "    # Split the data into features and labels\n",
    "    x_all = data.drop('Diabetes_012', axis=1)\n",
    "    y_all = data['Diabetes_012']\n",
    "\n",
    "    if onehot:\n",
    "        num_classes = 3\n",
    "        y_all = keras.utils.to_categorical(y_all, num_classes)\n",
    "\n",
    "    # Split the data into training, validation, and test sets\n",
    "    train_x, temp_x, train_y, temp_y = train_test_split(x_all, y_all, test_size=test_val_prop, random_state=seed)\n",
    "    val_x, test_x, val_y, test_y = train_test_split(temp_x, temp_y, test_size=val_prop, random_state=seed)\n",
    "\n",
    "    # Standardize the data (need to consider not normalizing the binary and categorical data, instead keepbinary as it is and on-hot encode the categorical)\n",
    "    scaler = StandardScaler()\n",
    "    train_x = scaler.fit_transform(train_x)\n",
    "    val_x = scaler.transform(val_x)\n",
    "    test_x = scaler.transform(test_x)\n",
    "\n",
    "    if verbose: \n",
    "        print('Shape : train x: {} y: {}, val x: {} y: {}, test shape: {} y: {}'.format(train_x.shape, train_y.shape,\n",
    "                                                                                      val_x.shape, val_x.shape, test_x.shape, test_y.shape))\n",
    "    \n",
    "    return train_x, train_y, test_x, test_y, val_x, val_y\n",
    "\n",
    "\n",
    "train_x, train_y, test_x, test_y, val_x, val_y = preprocess_data(diabetes_data, onehot=True, seed=seed, verbose=True) "
   ]
  },
  {
   "cell_type": "code",
   "execution_count": 8,
   "metadata": {},
   "outputs": [
    {
     "name": "stdout",
     "output_type": "stream",
     "text": [
      "[[ 1.15293655 -0.85828244  0.19681353  2.36719605  1.12167059 -0.20637819\n",
      "   3.09512457  0.56754464 -1.31642176 -2.0742298  -0.24417128  0.22660318\n",
      "  -0.30252157  0.45663095 -0.42951818  0.08757743  2.22429395 -0.88662367\n",
      "   0.97173332 -2.07778015 -2.43982628]\n",
      " [-0.86735042 -0.85828244  0.19681353  0.09436036 -0.89152734 -0.20637819\n",
      "  -0.32308877  0.56754464  0.75963497  0.48210666 -0.24417128  0.22660318\n",
      "  -0.30252157 -0.47872937 -0.42951818 -0.48612045 -0.44958087 -0.88662367\n",
      "  -0.0108728   0.96378742  0.45697128]\n",
      " [-0.86735042 -0.85828244  0.19681353  0.5489275   1.12167059 -0.20637819\n",
      "  -0.32308877 -1.76197593 -1.31642176  0.48210666 -0.24417128  0.22660318\n",
      "  -0.30252157 -0.47872937  0.92030185 -0.48612045 -0.44958087 -0.88662367\n",
      "  -0.0108728  -0.05006844  0.45697128]\n",
      " [-0.86735042  1.16511763  0.19681353 -0.81477391  1.12167059 -0.20637819\n",
      "  -0.32308877  0.56754464  0.75963497  0.48210666 -0.24417128  0.22660318\n",
      "  -0.30252157  0.45663095 -0.42951818 -0.48612045 -0.44958087 -0.88662367\n",
      "   0.64419795 -1.06392429  0.45697128]\n",
      " [ 1.15293655 -0.85828244  0.19681353 -0.36020677 -0.89152734 -0.20637819\n",
      "  -0.32308877  0.56754464  0.75963497  0.48210666 -0.24417128  0.22660318\n",
      "  -0.30252157 -1.41408969 -0.42951818 -0.48612045 -0.44958087 -0.88662367\n",
      "   0.64419795  0.96378742  0.93977087]]\n"
     ]
    }
   ],
   "source": [
    "print(train_x[:5])"
   ]
  },
  {
   "cell_type": "code",
   "execution_count": 9,
   "metadata": {},
   "outputs": [],
   "source": [
    "# Let's create a custom callback class\n",
    "class PerfEvalCustomCallback(keras.callbacks.Callback):\n",
    "    \n",
    "    def __init__(self, perf_data):\n",
    "        self.perf_data = perf_data\n",
    "    \n",
    "    # we define the on_epoch_end callback and save the loss and accuracy in perf_data\n",
    "    def on_epoch_end(self, epoch, logs=None):\n",
    "        self.perf_data[epoch,0] = logs['loss']\n",
    "        self.perf_data[epoch,1] = logs['accuracy']\n",
    "        self.perf_data[epoch,2] = logs['val_loss']\n",
    "        self.perf_data[epoch,3] = logs['val_accuracy']\n",
    "\n",
    "    def get_perf_data():\n",
    "        return self.perf_data"
   ]
  },
  {
   "cell_type": "code",
   "execution_count": 10,
   "metadata": {},
   "outputs": [],
   "source": [
    "# Plot the model's performance during training (across epochs)\n",
    "def plot_training_perf(train_loss, train_acc, val_loss, val_acc, ax=None, fs=(6,3)):\n",
    "    no_ax_provided = ax == None\n",
    "    if no_ax_provided:\n",
    "        fig = plt.figure(figsize=fs)\n",
    "        ax = plt.gca()\n",
    "\n",
    "    assert train_loss.shape == val_loss.shape and train_loss.shape == val_acc.shape and val_acc.shape == train_acc.shape\n",
    "    \n",
    "    # assume we have one measurement per epoch\n",
    "    num_epochs = train_loss.shape[0]\n",
    "    epochs = np.arange(0, num_epochs)\n",
    "\n",
    "    ax.plot(1+epochs, train_acc, 'r--', linewidth=2, label='Training')\n",
    "    ax.plot(1+epochs, val_acc, 'b-', linewidth=2, label='Validation')\n",
    "    \n",
    "    ax.set_ylabel('Accuracy')\n",
    "    ax.set_xlabel('Epoch')\n",
    "    \n",
    "    ax.set_xlim([1, num_epochs])\n",
    "\n",
    "    ylim = [0.0, 1.01]\n",
    "    ax.set_ylim(ylim)\n",
    "\n",
    "    ax.legend()\n",
    "    if no_ax_provided:\n",
    "        plt.show()"
   ]
  },
  {
   "cell_type": "code",
   "execution_count": 21,
   "metadata": {},
   "outputs": [],
   "source": [
    "\n",
    "def evaluate_model(name, model, eval_data, \n",
    "                   plot_training=True, evaluate_on_test_set=True, provide_classification_report=False):\n",
    "    \n",
    "    # unpack the stuff\n",
    "    perf_data, dataset = eval_data\n",
    "    train_x, train_y, val_x, val_y, test_x, test_y = dataset\n",
    "    \n",
    "    \n",
    "    train_preds = model.predict(train_x, verbose=0)\n",
    "    val_preds = model.predict(val_x, verbose=0)\n",
    "    \n",
    "\n",
    "    train_accuracy_metric = keras.metrics.CategoricalAccuracy()\n",
    "    val_accuracy_metric = keras.metrics.CategoricalAccuracy()\n",
    "\n",
    "    train_accuracy_metric.update_state(train_y, train_preds)\n",
    "    val_accuracy_metric.update_state(val_y, val_preds)\n",
    "\n",
    "    train_acc = train_accuracy_metric.result().numpy()\n",
    "    val_acc = val_accuracy_metric.result().numpy()\n",
    "\n",
    "\n",
    "    print('[{}] Training Accuracy: {:.3f}%, Validation Accuracy: {:.3f}%'.format(name, 100*train_acc, 100*val_acc))\n",
    "        \n",
    "    if evaluate_on_test_set:\n",
    "        test_loss, test_acc = model.evaluate(test_x, test_y, verbose=0)\n",
    "        assert np.isnan(test_loss) or (test_loss == float(test_loss) and test_loss >= -1e8)\n",
    "        assert np.isnan(test_acc) or (test_acc == float(test_acc) and test_acc >= 0 and test_acc < 1.0)\n",
    "        print('[{}] Test loss: {:.5f}, test accuracy: {:.3f}%'.format(name, test_loss, 100*test_acc))\n",
    "\n",
    "    if plot_training:\n",
    "        plot_training_perf(perf_data[:,0], perf_data[:,1], perf_data[:,2], perf_data[:,3])\n",
    "    \n",
    "    if provide_classification_report:\n",
    "        test_preds_indices = model.predict(test_x, verbose=0).argmax(axis=1)\n",
    "        test_y_indices = np.argmax(test_y, axis=1)\n",
    "        print(\"\\n--- Classification Report (Test Set) ---\")\n",
    "        print(sklearn.metrics.classification_report(test_y_indices, test_preds_indices))\n",
    "    return\n",
    "\n",
    "\n",
    "def train_model(model, max_epochs=25, batch_size=128, verbose=0, \n",
    "                   dataset=(train_x, train_y, val_x, val_y, test_x, test_y)):\n",
    "\n",
    "    ## unpack dataset\n",
    "    train_x, train_y, val_x, val_y, test_x, test_y = dataset\n",
    "    \n",
    "    early_stop_cb = keras.callbacks.EarlyStopping(monitor='loss', mode='min', patience=5)\n",
    "    \n",
    "    perf_data = np.zeros((max_epochs, 4))\n",
    "    perf_eval_cb = PerfEvalCustomCallback(perf_data)\n",
    "    \n",
    "    hobj = model.fit(train_x, train_y, validation_data=(val_x, val_y), epochs=max_epochs, batch_size=batch_size, \n",
    "                     shuffle=True, callbacks=[perf_eval_cb, early_stop_cb], verbose=verbose)\n",
    "    \n",
    "    eff_epochs = len(hobj.history['loss'])\n",
    "    eval_data = (perf_data[0:eff_epochs,:], dataset)\n",
    "    \n",
    "    return eval_data"
   ]
  },
  {
   "cell_type": "code",
   "execution_count": 12,
   "metadata": {
    "deletable": false,
    "nbgrader": {
     "cell_type": "code",
     "checksum": "77368479c3be038b907a292c19c5743c",
     "grade": false,
     "grade_id": "task2a-code",
     "locked": false,
     "schema_version": 3,
     "solution": true,
     "task": false
    }
   },
   "outputs": [],
   "source": [
    "def create_compile_model(input_shape=21, hidden_widths=[100, 50], num_outputs=3, learning_rate=0.001, verbose=True):\n",
    "    name = 'diabetes_ANN_model'\n",
    "    \n",
    "    model = keras.models.Sequential(name=name)\n",
    "    \n",
    "    model.add(keras.Input(shape=(input_shape,), sparse=False)) \n",
    "    \n",
    "    for i, hw in enumerate(hidden_widths):\n",
    "        model.add(keras.layers.Dense(hw, activation='relu', name='hidden_{}'.format(i), \n",
    "                                     kernel_initializer=keras.initializers.RandomNormal(stddev=np.sqrt(1/hw)),\n",
    "                                     bias_initializer=keras.initializers.Zeros()))\n",
    "        \n",
    "    model.add(keras.layers.Dense(num_outputs, activation='softmax', name='output',\n",
    "                                kernel_initializer=keras.initializers.RandomNormal(stddev=np.sqrt(0.1)),\n",
    "                                bias_initializer=keras.initializers.Zeros()))\n",
    "    \n",
    "    opt = keras.optimizers.Adam(learning_rate=learning_rate)\n",
    "    \n",
    "    if verbose:\n",
    "        model.summary()\n",
    "    \n",
    "    model.compile(loss='categorical_crossentropy', optimizer=opt, metrics=['accuracy'])\n",
    "    \n",
    "    return name, model"
   ]
  },
  {
   "cell_type": "code",
   "execution_count": null,
   "metadata": {},
   "outputs": [
    {
     "name": "stderr",
     "output_type": "stream",
     "text": [
      "WARNING:absl:At this time, the v2.11+ optimizer `tf.keras.optimizers.Adam` runs slowly on M1/M2 Macs, please use the legacy Keras optimizer instead, located at `tf.keras.optimizers.legacy.Adam`.\n"
     ]
    },
    {
     "name": "stdout",
     "output_type": "stream",
     "text": [
      "Model: \"diabetes_ANN_model\"\n",
      "_________________________________________________________________\n",
      " Layer (type)                Output Shape              Param #   \n",
      "=================================================================\n",
      " hidden_0 (Dense)            (None, 100)               2200      \n",
      "                                                                 \n",
      " hidden_1 (Dense)            (None, 50)                5050      \n",
      "                                                                 \n",
      " output (Dense)              (None, 3)                 153       \n",
      "                                                                 \n",
      "=================================================================\n",
      "Total params: 7403 (28.92 KB)\n",
      "Trainable params: 7403 (28.92 KB)\n",
      "Non-trainable params: 0 (0.00 Byte)\n",
      "_________________________________________________________________\n",
      "Epoch 1/25\n",
      "1784/1784 [==============================] - 1s 479us/step - loss: 0.4039 - accuracy: 0.8462 - val_loss: 0.4020 - val_accuracy: 0.8482\n",
      "Epoch 2/25\n",
      "1784/1784 [==============================] - 1s 535us/step - loss: 0.3945 - accuracy: 0.8492 - val_loss: 0.3995 - val_accuracy: 0.8490\n",
      "Epoch 3/25\n",
      "1784/1784 [==============================] - 1s 442us/step - loss: 0.3933 - accuracy: 0.8494 - val_loss: 0.3996 - val_accuracy: 0.8483\n",
      "Epoch 4/25\n",
      "1784/1784 [==============================] - 1s 440us/step - loss: 0.3925 - accuracy: 0.8497 - val_loss: 0.4009 - val_accuracy: 0.8480\n",
      "Epoch 5/25\n",
      "1784/1784 [==============================] - 1s 442us/step - loss: 0.3918 - accuracy: 0.8497 - val_loss: 0.3988 - val_accuracy: 0.8497\n",
      "Epoch 6/25\n",
      "1784/1784 [==============================] - 1s 441us/step - loss: 0.3913 - accuracy: 0.8500 - val_loss: 0.3994 - val_accuracy: 0.8500\n",
      "Epoch 7/25\n",
      "1784/1784 [==============================] - 1s 441us/step - loss: 0.3907 - accuracy: 0.8506 - val_loss: 0.3991 - val_accuracy: 0.8513\n",
      "Epoch 8/25\n",
      "1784/1784 [==============================] - 1s 453us/step - loss: 0.3902 - accuracy: 0.8507 - val_loss: 0.4007 - val_accuracy: 0.8486\n",
      "Epoch 9/25\n",
      "1784/1784 [==============================] - 1s 443us/step - loss: 0.3896 - accuracy: 0.8509 - val_loss: 0.3985 - val_accuracy: 0.8495\n",
      "Epoch 10/25\n",
      "1784/1784 [==============================] - 1s 447us/step - loss: 0.3891 - accuracy: 0.8513 - val_loss: 0.4007 - val_accuracy: 0.8493\n",
      "Epoch 11/25\n",
      "1784/1784 [==============================] - 1s 448us/step - loss: 0.3886 - accuracy: 0.8512 - val_loss: 0.3999 - val_accuracy: 0.8512\n",
      "Epoch 12/25\n",
      "1488/1784 [========================>.....] - ETA: 0s - loss: 0.3883 - accuracy: 0.8511"
     ]
    }
   ],
   "source": [
    "\n",
    "name, model = create_compile_model() \n",
    "eval_data = train_model(model, verbose=1)"
   ]
  },
  {
   "cell_type": "code",
   "execution_count": 14,
   "metadata": {},
   "outputs": [
    {
     "name": "stdout",
     "output_type": "stream",
     "text": [
      "[diabetes_ANN_model] Training Accuracy: 85.443%, Validation Accuracy: 84.792%\n",
      "[diabetes_ANN_model] Test loss: 0.39141, test accuracy: 85.084%\n"
     ]
    },
    {
     "data": {
      "image/png": "[encoded data removed]",
      "text/plain": [
       "<Figure size 600x300 with 1 Axes>"
      ]
     },
     "metadata": {},
     "output_type": "display_data"
    }
   ],
   "source": [
    "evaluate_model(name, model, eval_data)"
   ]
  },
  {
   "cell_type": "code",
   "execution_count": 15,
   "metadata": {},
   "outputs": [
    {
     "name": "stderr",
     "output_type": "stream",
     "text": [
      "WARNING:absl:At this time, the v2.11+ optimizer `tf.keras.optimizers.Adam` runs slowly on M1/M2 Macs, please use the legacy Keras optimizer instead, located at `tf.keras.optimizers.legacy.Adam`.\n"
     ]
    },
    {
     "name": "stdout",
     "output_type": "stream",
     "text": [
      "Model: \"diabetes_ANN_model\"\n",
      "_________________________________________________________________\n",
      " Layer (type)                Output Shape              Param #   \n",
      "=================================================================\n",
      " hidden_0 (Dense)            (None, 128)               2816      \n",
      "                                                                 \n",
      " hidden_1 (Dense)            (None, 64)                8256      \n",
      "                                                                 \n",
      " hidden_2 (Dense)            (None, 32)                2080      \n",
      "                                                                 \n",
      " output (Dense)              (None, 3)                 99        \n",
      "                                                                 \n",
      "=================================================================\n",
      "Total params: 13251 (51.76 KB)\n",
      "Trainable params: 13251 (51.76 KB)\n",
      "Non-trainable params: 0 (0.00 Byte)\n",
      "_________________________________________________________________\n",
      "Epoch 1/25\n",
      "1784/1784 [==============================] - 1s 522us/step - loss: 0.4011 - accuracy: 0.8469 - val_loss: 0.4015 - val_accuracy: 0.8474\n",
      "Epoch 2/25\n",
      "1784/1784 [==============================] - 1s 499us/step - loss: 0.3942 - accuracy: 0.8492 - val_loss: 0.4043 - val_accuracy: 0.8493\n",
      "Epoch 3/25\n",
      "1784/1784 [==============================] - 1s 498us/step - loss: 0.3930 - accuracy: 0.8493 - val_loss: 0.4010 - val_accuracy: 0.8486\n",
      "Epoch 4/25\n",
      "1784/1784 [==============================] - 1s 498us/step - loss: 0.3922 - accuracy: 0.8496 - val_loss: 0.4001 - val_accuracy: 0.8489\n",
      "Epoch 5/25\n",
      "1784/1784 [==============================] - 1s 498us/step - loss: 0.3918 - accuracy: 0.8501 - val_loss: 0.4005 - val_accuracy: 0.8482\n",
      "Epoch 6/25\n",
      "1784/1784 [==============================] - 1s 515us/step - loss: 0.3909 - accuracy: 0.8505 - val_loss: 0.3998 - val_accuracy: 0.8489\n",
      "Epoch 7/25\n",
      "1784/1784 [==============================] - 1s 497us/step - loss: 0.3902 - accuracy: 0.8502 - val_loss: 0.4000 - val_accuracy: 0.8478\n",
      "Epoch 8/25\n",
      "1784/1784 [==============================] - 1s 497us/step - loss: 0.3896 - accuracy: 0.8506 - val_loss: 0.4010 - val_accuracy: 0.8493\n",
      "Epoch 9/25\n",
      "1784/1784 [==============================] - 1s 505us/step - loss: 0.3888 - accuracy: 0.8511 - val_loss: 0.4014 - val_accuracy: 0.8502\n",
      "Epoch 10/25\n",
      "1784/1784 [==============================] - 1s 499us/step - loss: 0.3882 - accuracy: 0.8510 - val_loss: 0.4002 - val_accuracy: 0.8480\n",
      "Epoch 11/25\n",
      "1784/1784 [==============================] - 1s 580us/step - loss: 0.3876 - accuracy: 0.8515 - val_loss: 0.4009 - val_accuracy: 0.8498\n",
      "Epoch 12/25\n",
      "1784/1784 [==============================] - 1s 503us/step - loss: 0.3866 - accuracy: 0.8514 - val_loss: 0.4008 - val_accuracy: 0.8502\n",
      "Epoch 13/25\n",
      "1784/1784 [==============================] - 1s 508us/step - loss: 0.3858 - accuracy: 0.8521 - val_loss: 0.4016 - val_accuracy: 0.8481\n",
      "Epoch 14/25\n",
      "1784/1784 [==============================] - 1s 500us/step - loss: 0.3851 - accuracy: 0.8521 - val_loss: 0.4047 - val_accuracy: 0.8486\n",
      "Epoch 15/25\n",
      "1784/1784 [==============================] - 1s 496us/step - loss: 0.3842 - accuracy: 0.8524 - val_loss: 0.4063 - val_accuracy: 0.8488\n",
      "Epoch 16/25\n",
      "1784/1784 [==============================] - 1s 503us/step - loss: 0.3833 - accuracy: 0.8528 - val_loss: 0.4072 - val_accuracy: 0.8484\n",
      "Epoch 17/25\n",
      "1784/1784 [==============================] - 1s 499us/step - loss: 0.3823 - accuracy: 0.8533 - val_loss: 0.4050 - val_accuracy: 0.8474\n",
      "Epoch 18/25\n",
      "1784/1784 [==============================] - 1s 497us/step - loss: 0.3815 - accuracy: 0.8537 - val_loss: 0.4060 - val_accuracy: 0.8479\n",
      "Epoch 19/25\n",
      "1784/1784 [==============================] - 1s 496us/step - loss: 0.3805 - accuracy: 0.8541 - val_loss: 0.4066 - val_accuracy: 0.8474\n",
      "Epoch 20/25\n",
      "1784/1784 [==============================] - 1s 500us/step - loss: 0.3796 - accuracy: 0.8545 - val_loss: 0.4059 - val_accuracy: 0.8470\n",
      "Epoch 21/25\n",
      "1784/1784 [==============================] - 1s 496us/step - loss: 0.3786 - accuracy: 0.8543 - val_loss: 0.4067 - val_accuracy: 0.8480\n",
      "Epoch 22/25\n",
      "1784/1784 [==============================] - 1s 497us/step - loss: 0.3779 - accuracy: 0.8545 - val_loss: 0.4097 - val_accuracy: 0.8473\n",
      "Epoch 23/25\n",
      "1784/1784 [==============================] - 1s 496us/step - loss: 0.3772 - accuracy: 0.8550 - val_loss: 0.4081 - val_accuracy: 0.8478\n",
      "Epoch 24/25\n",
      "1784/1784 [==============================] - 1s 495us/step - loss: 0.3762 - accuracy: 0.8552 - val_loss: 0.4110 - val_accuracy: 0.8468\n",
      "Epoch 25/25\n",
      "1784/1784 [==============================] - 1s 495us/step - loss: 0.3753 - accuracy: 0.8556 - val_loss: 0.4133 - val_accuracy: 0.8446\n"
     ]
    }
   ],
   "source": [
    "name, model = create_compile_model(hidden_widths=[128,64,32]) \n",
    "eval_data = train_model(model, verbose=1)"
   ]
  },
  {
   "cell_type": "code",
   "execution_count": 16,
   "metadata": {},
   "outputs": [
    {
     "name": "stdout",
     "output_type": "stream",
     "text": [
      "[diabetes_ANN_model] Training Accuracy: 85.719%, Validation Accuracy: 84.461%\n",
      "[diabetes_ANN_model] Test loss: 0.40083, test accuracy: 84.894%\n"
     ]
    },
    {
     "data": {
      "image/png": "[encoded data removed]",
      "text/plain": [
       "<Figure size 600x300 with 1 Axes>"
      ]
     },
     "metadata": {},
     "output_type": "display_data"
    },
    {
     "name": "stdout",
     "output_type": "stream",
     "text": [
      "\n",
      "--- Classification Report (Test Set) ---\n",
      "              precision    recall  f1-score   support\n",
      "\n",
      "           0       0.87      0.97      0.92     10720\n",
      "           1       0.50      0.00      0.01       217\n",
      "           2       0.52      0.20      0.29      1747\n",
      "\n",
      "    accuracy                           0.85     12684\n",
      "   macro avg       0.63      0.39      0.40     12684\n",
      "weighted avg       0.81      0.85      0.81     12684\n",
      "\n"
     ]
    }
   ],
   "source": [
    "evaluate_model(name, model, eval_data, provide_classification_report=True)"
   ]
  },
  {
   "cell_type": "code",
   "execution_count": 19,
   "metadata": {},
   "outputs": [
    {
     "name": "stderr",
     "output_type": "stream",
     "text": [
      "WARNING:absl:At this time, the v2.11+ optimizer `tf.keras.optimizers.Adam` runs slowly on M1/M2 Macs, please use the legacy Keras optimizer instead, located at `tf.keras.optimizers.legacy.Adam`.\n"
     ]
    },
    {
     "name": "stdout",
     "output_type": "stream",
     "text": [
      "Model: \"diabetes_ANN_model\"\n",
      "_________________________________________________________________\n",
      " Layer (type)                Output Shape              Param #   \n",
      "=================================================================\n",
      " hidden_0 (Dense)            (None, 128)               2816      \n",
      "                                                                 \n",
      " hidden_1 (Dense)            (None, 64)                8256      \n",
      "                                                                 \n",
      " hidden_2 (Dense)            (None, 32)                2080      \n",
      "                                                                 \n",
      " output (Dense)              (None, 3)                 99        \n",
      "                                                                 \n",
      "=================================================================\n",
      "Total params: 13251 (51.76 KB)\n",
      "Trainable params: 13251 (51.76 KB)\n",
      "Non-trainable params: 0 (0.00 Byte)\n",
      "_________________________________________________________________\n",
      "Epoch 1/25\n",
      "1784/1784 [==============================] - 1s 556us/step - loss: 0.4282 - accuracy: 0.8383 - val_loss: 0.4044 - val_accuracy: 0.8478\n",
      "Epoch 2/25\n",
      "1784/1784 [==============================] - 1s 534us/step - loss: 0.3966 - accuracy: 0.8489 - val_loss: 0.4025 - val_accuracy: 0.8492\n",
      "Epoch 3/25\n",
      "1784/1784 [==============================] - 1s 549us/step - loss: 0.3944 - accuracy: 0.8491 - val_loss: 0.4005 - val_accuracy: 0.8490\n",
      "Epoch 4/25\n",
      "1784/1784 [==============================] - 1s 545us/step - loss: 0.3931 - accuracy: 0.8498 - val_loss: 0.3999 - val_accuracy: 0.8487\n",
      "Epoch 5/25\n",
      "1784/1784 [==============================] - 1s 546us/step - loss: 0.3921 - accuracy: 0.8502 - val_loss: 0.4004 - val_accuracy: 0.8487\n",
      "Epoch 6/25\n",
      "1784/1784 [==============================] - 1s 534us/step - loss: 0.3914 - accuracy: 0.8505 - val_loss: 0.4006 - val_accuracy: 0.8489\n",
      "Epoch 7/25\n",
      "1784/1784 [==============================] - 1s 549us/step - loss: 0.3908 - accuracy: 0.8504 - val_loss: 0.3996 - val_accuracy: 0.8489\n",
      "Epoch 8/25\n",
      "1784/1784 [==============================] - 1s 545us/step - loss: 0.3902 - accuracy: 0.8507 - val_loss: 0.3990 - val_accuracy: 0.8488\n",
      "Epoch 9/25\n",
      "1784/1784 [==============================] - 1s 540us/step - loss: 0.3897 - accuracy: 0.8510 - val_loss: 0.3989 - val_accuracy: 0.8493\n",
      "Epoch 10/25\n",
      "1784/1784 [==============================] - 1s 587us/step - loss: 0.3894 - accuracy: 0.8512 - val_loss: 0.3994 - val_accuracy: 0.8479\n",
      "Epoch 11/25\n",
      "1784/1784 [==============================] - 1s 548us/step - loss: 0.3888 - accuracy: 0.8514 - val_loss: 0.3998 - val_accuracy: 0.8485\n",
      "Epoch 12/25\n",
      "1784/1784 [==============================] - 1s 544us/step - loss: 0.3885 - accuracy: 0.8513 - val_loss: 0.3992 - val_accuracy: 0.8485\n",
      "Epoch 13/25\n",
      "1784/1784 [==============================] - 1s 543us/step - loss: 0.3881 - accuracy: 0.8513 - val_loss: 0.3989 - val_accuracy: 0.8489\n",
      "Epoch 14/25\n",
      "1784/1784 [==============================] - 1s 560us/step - loss: 0.3878 - accuracy: 0.8512 - val_loss: 0.4000 - val_accuracy: 0.8493\n",
      "Epoch 15/25\n",
      "1784/1784 [==============================] - 1s 543us/step - loss: 0.3875 - accuracy: 0.8517 - val_loss: 0.3991 - val_accuracy: 0.8482\n",
      "Epoch 16/25\n",
      "1784/1784 [==============================] - 1s 545us/step - loss: 0.3873 - accuracy: 0.8518 - val_loss: 0.3995 - val_accuracy: 0.8487\n",
      "Epoch 17/25\n",
      "1784/1784 [==============================] - 1s 559us/step - loss: 0.3870 - accuracy: 0.8520 - val_loss: 0.3989 - val_accuracy: 0.8491\n",
      "Epoch 18/25\n",
      "1784/1784 [==============================] - 1s 546us/step - loss: 0.3866 - accuracy: 0.8522 - val_loss: 0.3994 - val_accuracy: 0.8485\n",
      "Epoch 19/25\n",
      "1784/1784 [==============================] - 1s 604us/step - loss: 0.3863 - accuracy: 0.8518 - val_loss: 0.3997 - val_accuracy: 0.8493\n",
      "Epoch 20/25\n",
      "1784/1784 [==============================] - 1s 544us/step - loss: 0.3861 - accuracy: 0.8524 - val_loss: 0.3995 - val_accuracy: 0.8491\n",
      "Epoch 21/25\n",
      "1784/1784 [==============================] - 1s 545us/step - loss: 0.3858 - accuracy: 0.8524 - val_loss: 0.3990 - val_accuracy: 0.8493\n",
      "Epoch 22/25\n",
      "1784/1784 [==============================] - 1s 569us/step - loss: 0.3856 - accuracy: 0.8526 - val_loss: 0.3999 - val_accuracy: 0.8480\n",
      "Epoch 23/25\n",
      "1784/1784 [==============================] - 1s 593us/step - loss: 0.3854 - accuracy: 0.8526 - val_loss: 0.3993 - val_accuracy: 0.8490\n",
      "Epoch 24/25\n",
      "1784/1784 [==============================] - 1s 543us/step - loss: 0.3850 - accuracy: 0.8525 - val_loss: 0.4001 - val_accuracy: 0.8491\n",
      "Epoch 25/25\n",
      "1784/1784 [==============================] - 1s 556us/step - loss: 0.3848 - accuracy: 0.8528 - val_loss: 0.3998 - val_accuracy: 0.8496\n"
     ]
    }
   ],
   "source": [
    "name, model = create_compile_model(hidden_widths=[128,64,32], learning_rate=0.0001) \n",
    "eval_data = train_model(model, verbose=1)"
   ]
  }
 ],
 "metadata": {
  "kernelspec": {
   "display_name": "Python 3 (ipykernel)",
   "language": "python",
   "name": "python3"
  },
  "language_info": {
   "codemirror_mode": {
    "name": "ipython",
    "version": 3
   },
   "file_extension": ".py",
   "mimetype": "text/x-python",
   "name": "python",
   "nbconvert_exporter": "python",
   "pygments_lexer": "ipython3",
   "version": "3.9.6"
  }
 },
 "nbformat": 4,
 "nbformat_minor": 4
}
