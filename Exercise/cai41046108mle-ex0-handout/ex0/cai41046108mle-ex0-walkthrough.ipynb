{
 "cells": [
  {
   "cell_type": "markdown",
   "metadata": {},
   "source": [
    "# Exercise 0: Getting Started!"
   ]
  },
  {
   "cell_type": "code",
   "execution_count": 1,
   "metadata": {},
   "outputs": [
    {
     "name": "stdout",
     "output_type": "stream",
     "text": [
      "### Python version: 3.9.6 (default, Oct 18 2022, 12:41:40) \n",
      "[Clang 14.0.0 (clang-1400.0.29.202)]\n",
      "### Numpy version: 1.26.3\n",
      "### Scikit-learn version: 1.3.2\n",
      "------------\n"
     ]
    }
   ],
   "source": [
    "# Load packages we need\n",
    "import sys\n",
    "import os\n",
    "\n",
    "import numpy as np\n",
    "import sklearn\n",
    "\n",
    "%matplotlib inline\n",
    "from matplotlib import pyplot as plt\n",
    "plt.rcParams.update({'font.size': 20})\n",
    "\n",
    "# Let's check our software versions\n",
    "print('### Python version: ' + sys.version)\n",
    "print('### Numpy version: ' + np.__version__)\n",
    "print('### Scikit-learn version: ' + sklearn.__version__)\n",
    "print('------------')\n",
    "\n",
    "\n",
    "# load our packages / code\n",
    "sys.path.insert(1, '../common/')\n",
    "import utils\n",
    "import plots"
   ]
  },
  {
   "cell_type": "code",
   "execution_count": 3,
   "metadata": {},
   "outputs": [],
   "source": [
    "# global parameters to control behavior of the pre-processing, ML, analysis, etc.\n",
    "\n",
    "seed = 42 # deterministic seed\n",
    "\n",
    "np.random.seed(seed) \n",
    "\n",
    "# 80% training, 20% testing\n",
    "train_prop = 0.8\n",
    "test_prop = 1.0 - train_prop"
   ]
  },
  {
   "cell_type": "markdown",
   "metadata": {},
   "source": [
    "### Loading data"
   ]
  },
  {
   "cell_type": "code",
   "execution_count": 4,
   "metadata": {},
   "outputs": [],
   "source": [
    "from sklearn.datasets import load_iris\n",
    "\n",
    "# For this exercise, we'll load a dataset directly from scikit-learn\n",
    "iris = load_iris()\n",
    "# Ref: https://scikit-learn.org/stable/modules/generated/sklearn.datasets.load_iris.html\n",
    "\n",
    "all_x = iris['data']\n",
    "all_y = iris['target']"
   ]
  },
  {
   "cell_type": "code",
   "execution_count": 7,
   "metadata": {},
   "outputs": [
    {
     "name": "stdout",
     "output_type": "stream",
     "text": [
      "Classes: ['setosa' 'versicolor' 'virginica']\n",
      "Features: ['sepal length (cm)', 'sepal width (cm)', 'petal length (cm)', 'petal width (cm)']\n"
     ]
    }
   ],
   "source": [
    "# what are the classes and features?\n",
    "# 'target_names' and 'feature_names' fields in 'iris'\n",
    "\n",
    "features = iris[\"feature_names\"]\n",
    "classes = iris['target_names']\n",
    "\n",
    "print('Classes: {}'.format(classes))\n",
    "print('Features: {}'.format(features))"
   ]
  },
  {
   "cell_type": "code",
   "execution_count": 8,
   "metadata": {},
   "outputs": [
    {
     "name": "stdout",
     "output_type": "stream",
     "text": [
      "(150, 4) (150,)\n"
     ]
    }
   ],
   "source": [
    "# let's check the shape to know what we are getting\n",
    "print(all_x.shape, all_y.shape)"
   ]
  },
  {
   "cell_type": "code",
   "execution_count": 9,
   "metadata": {},
   "outputs": [],
   "source": [
    "# We'll use only two classes ('versicolor', 'virginica')\n",
    "class1_idx = 1\n",
    "class2_idx = 2\n",
    "\n",
    "sel_classes = [classes[class1_idx], classes[class2_idx]]\n",
    "\n",
    "versicolor_label = 1\n",
    "virginica_label = 2\n",
    "\n",
    "# keep only examples of these two classes\n",
    "sel_idx_1 = np.where(all_y == versicolor_label)[0]\n",
    "sel_idx_2 = np.where(all_y == virginica_label)[0]\n",
    "\n",
    "sel_idx = np.r_[sel_idx_1, sel_idx_2]\n",
    "# Note: we could use np.hstack((sel_idx_1, sel_idx_2)) instead\n",
    "\n",
    "sel_x = all_x[sel_idx,:]\n",
    "sel_y = all_y[sel_idx]"
   ]
  },
  {
   "cell_type": "code",
   "execution_count": 13,
   "metadata": {},
   "outputs": [],
   "source": [
    "# and grab only the last two features (i.e., 'petal length' (idx 2), 'petal_width' (idx 3))\n",
    "\n",
    "feature1_idx = 2\n",
    "feature2_idx = 3\n",
    "\n",
    "\n",
    "proc_x = sel_x[:, [feature1_idx, feature2_idx]]\n",
    "proc_y = sel_y"
   ]
  },
  {
   "cell_type": "code",
   "execution_count": 14,
   "metadata": {},
   "outputs": [
    {
     "name": "stdout",
     "output_type": "stream",
     "text": [
      "(100, 2) (100,)\n"
     ]
    }
   ],
   "source": [
    "# recheck the shapes\n",
    "print(proc_x.shape, proc_y.shape)"
   ]
  },
  {
   "cell_type": "code",
   "execution_count": 16,
   "metadata": {},
   "outputs": [],
   "source": [
    "# train - test split\n",
    "from sklearn.model_selection import train_test_split\n",
    "\n",
    "train_x, test_x, train_y, test_y = train_test_split(proc_x, proc_y, train_size=train_prop, test_size=test_prop, \n",
    "                                                        random_state=seed)# set the random state to our seed for reproducibility "
   ]
  },
  {
   "cell_type": "markdown",
   "metadata": {},
   "source": [
    "### let's look at the data"
   ]
  },
  {
   "cell_type": "code",
   "execution_count": 21,
   "metadata": {},
   "outputs": [
    {
     "name": "stdout",
     "output_type": "stream",
     "text": [
      "(80, 2)\n",
      "(80,)\n"
     ]
    }
   ],
   "source": [
    "# first check the shapes of train\n",
    "\n",
    "print(train_x.shape)\n",
    "print(train_y.shape)"
   ]
  },
  {
   "cell_type": "code",
   "execution_count": 22,
   "metadata": {},
   "outputs": [
    {
     "data": {
      "text/plain": [
       "array([[6.6, 2.1],\n",
       "       [4.8, 1.8],\n",
       "       [4.8, 1.4],\n",
       "       [4. , 1.2],\n",
       "       [5. , 1.5]])"
      ]
     },
     "execution_count": 22,
     "metadata": {},
     "output_type": "execute_result"
    }
   ],
   "source": [
    "# what does the (training) data look like?\n",
    "train_x[0:5,:]"
   ]
  },
  {
   "cell_type": "code",
   "execution_count": 23,
   "metadata": {},
   "outputs": [
    {
     "data": {
      "text/plain": [
       "array([2, 2, 1, 1, 2, 1, 1, 2, 1, 2])"
      ]
     },
     "execution_count": 23,
     "metadata": {},
     "output_type": "execute_result"
    }
   ],
   "source": [
    "# what does the data look like?\n",
    "train_y[0:10]"
   ]
  },
  {
   "cell_type": "markdown",
   "metadata": {},
   "source": [
    "### let's train our first model"
   ]
  },
  {
   "cell_type": "code",
   "execution_count": 25,
   "metadata": {},
   "outputs": [],
   "source": [
    "from sklearn.svm import SVC\n",
    "## ref: https://scikit-learn.org/stable/modules/svm.html\n",
    "\n",
    "model = SVC(kernel='linear', random_state=seed).fit(train_x, train_y)"
   ]
  },
  {
   "cell_type": "code",
   "execution_count": null,
   "metadata": {},
   "outputs": [],
   "source": []
  },
  {
   "cell_type": "code",
   "execution_count": 26,
   "metadata": {},
   "outputs": [
    {
     "data": {
      "image/png": "[encoded data removed]",
      "text/plain": [
       "<Figure size 1000x600 with 1 Axes>"
      ]
     },
     "metadata": {},
     "output_type": "display_data"
    }
   ],
   "source": [
    "# plot to show classifier's decision boundary and training examples\n",
    "title = 'SVM Classifier (with linear kernel)'\n",
    "\n",
    "# we use matplotlib for this\n",
    "fig, ax = plt.subplots(figsize=(10,6)) # create a new figure\n",
    "\n",
    "# grab the training data features\n",
    "X0, X1 = train_x[:, 0], train_x[:, 1]\n",
    "\n",
    "# make a grid so we can plot the decision regions and boundaries (see plots.py for implementation of countours)\n",
    "xx, yy = plots.make_meshgrid(X0, X1, h=0.01)\n",
    "plots.contours(ax, model, xx, yy, cmap=plt.cm.coolwarm, alpha=0.75)\n",
    "\n",
    "# now plot the training data points in a scatter plot with color according to the labels (train_y)\n",
    "scatter = ax.scatter(X0, X1, c=train_y, cmap=plt.cm.coolwarm, s=75, linewidth=2, edgecolors='k')\n",
    "\n",
    "# set limits, labels, title\n",
    "ax.set_xlim(xx.min(), xx.max())\n",
    "ax.set_ylim(yy.min(), yy.max())\n",
    "ax.set_xlabel(features[feature1_idx])\n",
    "ax.set_ylabel(features[feature2_idx])\n",
    "ax.set_title(title)\n",
    "\n",
    "# legend\n",
    "handles, labels = scatter.legend_elements()\n",
    "ax.legend(handles, sel_classes, loc=\"upper right\", title=\"Classes\")\n",
    "\n",
    "plt.show()"
   ]
  },
  {
   "cell_type": "markdown",
   "metadata": {},
   "source": [
    "## Now, let's evaluate our model"
   ]
  },
  {
   "cell_type": "code",
   "execution_count": 29,
   "metadata": {},
   "outputs": [
    {
     "name": "stdout",
     "output_type": "stream",
     "text": [
      "Model accuracy: 95.00%\n"
     ]
    }
   ],
   "source": [
    "# make predictions on test set\n",
    "pred_y = model.predict(test_x)\n",
    "\n",
    "# are those prediction correct?\n",
    "from sklearn import metrics\n",
    "\n",
    "# use scikit-learn to compute accuracy for us (metrics.accuracy_score) on the test data\n",
    "\n",
    "acc_score = metrics.accuracy_score(test_y, pred_y)\n",
    "\n",
    "print('Model accuracy: {:.2f}%'.format(acc_score*100))"
   ]
  },
  {
   "cell_type": "markdown",
   "metadata": {},
   "source": [
    "### What about the training data?"
   ]
  },
  {
   "cell_type": "code",
   "execution_count": 30,
   "metadata": {},
   "outputs": [
    {
     "name": "stdout",
     "output_type": "stream",
     "text": [
      "Training accuracy: 96.25%\n"
     ]
    }
   ],
   "source": [
    "# make predictions on *training* set\n",
    "pred_y = model.predict(train_x)\n",
    "\n",
    "acc_score = metrics.accuracy_score(train_y, pred_y)\n",
    "print('Training accuracy: {:.2f}%'.format(acc_score*100))"
   ]
  },
  {
   "cell_type": "markdown",
   "metadata": {},
   "source": [
    "## Q: Is the model overfitted?"
   ]
  },
  {
   "cell_type": "code",
   "execution_count": 33,
   "metadata": {},
   "outputs": [
    {
     "name": "stdout",
     "output_type": "stream",
     "text": [
      "No, the training and test accuracy are almost similar\n"
     ]
    }
   ],
   "source": [
    "print('No, the training and test accuracy are almost similar') "
   ]
  },
  {
   "cell_type": "code",
   "execution_count": 34,
   "metadata": {},
   "outputs": [
    {
     "data": {
      "text/plain": [
       "{'decision_function_shape': 'ovr',\n",
       " 'break_ties': False,\n",
       " 'kernel': 'linear',\n",
       " 'degree': 3,\n",
       " 'gamma': 'scale',\n",
       " 'coef0': 0.0,\n",
       " 'tol': 0.001,\n",
       " 'C': 1.0,\n",
       " 'nu': 0.0,\n",
       " 'epsilon': 0.0,\n",
       " 'shrinking': True,\n",
       " 'probability': False,\n",
       " 'cache_size': 200,\n",
       " 'class_weight': None,\n",
       " 'verbose': False,\n",
       " 'max_iter': -1,\n",
       " 'random_state': 42,\n",
       " '_sparse': False,\n",
       " 'n_features_in_': 2,\n",
       " 'class_weight_': array([1., 1.]),\n",
       " 'classes_': array([1, 2]),\n",
       " '_gamma': 0.16236270204008735,\n",
       " 'support_': array([ 2, 18, 24, 29, 36, 38, 51, 64, 67, 74,  1,  4,  7, 40, 41, 60, 61,\n",
       "        76, 78, 79], dtype=int32),\n",
       " 'support_vectors_': array([[4.8, 1.4],\n",
       "        [4.5, 1.6],\n",
       "        [5. , 1.7],\n",
       "        [4.7, 1.4],\n",
       "        [4.7, 1.6],\n",
       "        [4.7, 1.5],\n",
       "        [4.6, 1.4],\n",
       "        [4.5, 1.5],\n",
       "        [4.9, 1.5],\n",
       "        [4.8, 1.8],\n",
       "        [4.8, 1.8],\n",
       "        [5. , 1.5],\n",
       "        [5. , 1.9],\n",
       "        [4.5, 1.7],\n",
       "        [5.1, 1.8],\n",
       "        [5. , 2. ],\n",
       "        [5.6, 1.4],\n",
       "        [4.9, 2. ],\n",
       "        [5.1, 1.9],\n",
       "        [5.1, 1.9]]),\n",
       " '_n_support': array([10, 10], dtype=int32),\n",
       " 'dual_coef_': array([[-1.        , -1.        , -1.        , -1.        , -1.        ,\n",
       "         -1.        , -0.05900645, -0.54098437, -1.        , -1.        ,\n",
       "          1.        ,  1.        ,  1.        ,  1.        ,  1.        ,\n",
       "          0.09616039,  0.51103529,  1.        ,  1.        ,  0.99279515]]),\n",
       " 'intercept_': array([-12.99997028]),\n",
       " '_probA': array([], dtype=float64),\n",
       " '_probB': array([], dtype=float64),\n",
       " 'fit_status_': 0,\n",
       " '_num_iter': array([13], dtype=int32),\n",
       " 'shape_fit_': (80, 2),\n",
       " '_intercept_': array([12.99997028]),\n",
       " '_dual_coef_': array([[ 1.        ,  1.        ,  1.        ,  1.        ,  1.        ,\n",
       "          1.        ,  0.05900645,  0.54098437,  1.        ,  1.        ,\n",
       "         -1.        , -1.        , -1.        , -1.        , -1.        ,\n",
       "         -0.09616039, -0.51103529, -1.        , -1.        , -0.99279515]]),\n",
       " 'n_iter_': array([13], dtype=int32)}"
      ]
     },
     "execution_count": 34,
     "metadata": {},
     "output_type": "execute_result"
    }
   ],
   "source": [
    "model.__dict__"
   ]
  },
  {
   "cell_type": "code",
   "execution_count": 35,
   "metadata": {},
   "outputs": [
    {
     "data": {
      "text/plain": [
       "array([[1.99999545, 1.99999537]])"
      ]
     },
     "execution_count": 35,
     "metadata": {},
     "output_type": "execute_result"
    }
   ],
   "source": [
    "model.coef_"
   ]
  },
  {
   "cell_type": "code",
   "execution_count": 37,
   "metadata": {},
   "outputs": [],
   "source": [
    "xprime = test_x[0]"
   ]
  },
  {
   "cell_type": "code",
   "execution_count": null,
   "metadata": {},
   "outputs": [],
   "source": [
    "np.dot(w,"
   ]
  },
  {
   "cell_type": "code",
   "execution_count": 38,
   "metadata": {},
   "outputs": [
    {
     "data": {
      "text/plain": [
       "array([[4.8, 1.4],\n",
       "       [4.5, 1.6],\n",
       "       [5. , 1.7],\n",
       "       [4.7, 1.4],\n",
       "       [4.7, 1.6],\n",
       "       [4.7, 1.5],\n",
       "       [4.6, 1.4],\n",
       "       [4.5, 1.5],\n",
       "       [4.9, 1.5],\n",
       "       [4.8, 1.8],\n",
       "       [4.8, 1.8],\n",
       "       [5. , 1.5],\n",
       "       [5. , 1.9],\n",
       "       [4.5, 1.7],\n",
       "       [5.1, 1.8],\n",
       "       [5. , 2. ],\n",
       "       [5.6, 1.4],\n",
       "       [4.9, 2. ],\n",
       "       [5.1, 1.9],\n",
       "       [5.1, 1.9]])"
      ]
     },
     "execution_count": 38,
     "metadata": {},
     "output_type": "execute_result"
    }
   ],
   "source": [
    "model.support_vectors_"
   ]
  },
  {
   "cell_type": "code",
   "execution_count": null,
   "metadata": {},
   "outputs": [],
   "source": []
  }
 ],
 "metadata": {
  "kernelspec": {
   "display_name": "Python 3 (ipykernel)",
   "language": "python",
   "name": "python3"
  },
  "language_info": {
   "codemirror_mode": {
    "name": "ipython",
    "version": 3
   },
   "file_extension": ".py",
   "mimetype": "text/x-python",
   "name": "python",
   "nbconvert_exporter": "python",
   "pygments_lexer": "ipython3",
   "version": "3.9.6"
  }
 },
 "nbformat": 4,
 "nbformat_minor": 4
}
