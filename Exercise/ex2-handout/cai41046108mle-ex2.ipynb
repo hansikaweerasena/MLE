{
 "cells": [
  {
   "cell_type": "markdown",
   "metadata": {},
   "source": [
    "# Exercise 2: Wine Classification (Continued)!"
   ]
  },
  {
   "cell_type": "code",
   "execution_count": 12,
   "metadata": {},
   "outputs": [
    {
     "name": "stdout",
     "output_type": "stream",
     "text": [
      "### Python version: 3.9.6 (default, Oct 18 2022, 12:41:40) \n",
      "[Clang 14.0.0 (clang-1400.0.29.202)]\n",
      "### NumPy version: 1.26.3\n",
      "### SciPy version: 1.11.4\n",
      "### Scikit-learn version: 1.3.2\n",
      "------------\n"
     ]
    }
   ],
   "source": [
    "# Load packages we need\n",
    "import sys\n",
    "import os\n",
    "import time\n",
    "\n",
    "import numpy as np\n",
    "import pandas as pd\n",
    "import scipy as sp\n",
    "import scipy.stats as stats\n",
    "import sklearn\n",
    "\n",
    "from matplotlib import pyplot as plt\n",
    "plt.rcParams.update({'font.size': 16})\n",
    "\n",
    "# Let's check our software versions\n",
    "print('### Python version: ' + __import__('sys').version)\n",
    "print('### NumPy version: ' + np.__version__)\n",
    "print('### SciPy version: ' + sp.__version__)\n",
    "print('### Scikit-learn version: ' + sklearn.__version__)\n",
    "print('------------')\n",
    "\n",
    "# load our packages / code\n",
    "sys.path.insert(1, 'common/')\n",
    "import utils\n",
    "import plots"
   ]
  },
  {
   "cell_type": "code",
   "execution_count": 13,
   "metadata": {},
   "outputs": [],
   "source": [
    "# global parameters to control behavior of the pre-processing, ML, analysis, etc.\n",
    "seed = 42**2\n",
    "\n",
    "np.random.seed(seed) # deterministic seed for reproducibility"
   ]
  },
  {
   "cell_type": "markdown",
   "metadata": {},
   "source": [
    "## Interesting stuff starts now"
   ]
  },
  {
   "cell_type": "markdown",
   "metadata": {},
   "source": [
    "### Loading data"
   ]
  },
  {
   "cell_type": "code",
   "execution_count": 14,
   "metadata": {},
   "outputs": [],
   "source": [
    "# Use pandas to load the data from compressed CSV\n",
    "#wine_type = 'red'\n",
    "wine_type = 'white'\n",
    "\n",
    "df = pd.read_csv('./data/{}-wine-quality.csv'.format(wine_type), header=0, na_values='?', sep=' *; *', skipinitialspace=True, engine='python')"
   ]
  },
  {
   "cell_type": "code",
   "execution_count": 15,
   "metadata": {},
   "outputs": [],
   "source": [
    "# Check that we loaded the data as expected\n",
    "if wine_type == 'white':\n",
    "    df_expected_shape = (4898,12)\n",
    "else:\n",
    "    df_expected_shape = (1599,12)\n",
    "    \n",
    "assert df.shape == df_expected_shape, 'Unexpected shape of df!'"
   ]
  },
  {
   "cell_type": "code",
   "execution_count": 16,
   "metadata": {},
   "outputs": [
    {
     "name": "stdout",
     "output_type": "stream",
     "text": [
      "<class 'pandas.core.frame.DataFrame'>\n",
      "RangeIndex: 4898 entries, 0 to 4897\n",
      "Data columns (total 12 columns):\n",
      " #   Column                Non-Null Count  Dtype  \n",
      "---  ------                --------------  -----  \n",
      " 0   fixed acidity         4898 non-null   float64\n",
      " 1   volatile acidity      4898 non-null   float64\n",
      " 2   citric acid           4898 non-null   float64\n",
      " 3   residual sugar        4898 non-null   float64\n",
      " 4   chlorides             4898 non-null   float64\n",
      " 5   free sulfur dioxide   4898 non-null   float64\n",
      " 6   total sulfur dioxide  4898 non-null   float64\n",
      " 7   density               4898 non-null   float64\n",
      " 8   pH                    4898 non-null   float64\n",
      " 9   sulphates             4898 non-null   float64\n",
      " 10  alcohol               4898 non-null   float64\n",
      " 11  quality               4898 non-null   int64  \n",
      "dtypes: float64(11), int64(1)\n",
      "memory usage: 459.3 KB\n"
     ]
    }
   ],
   "source": [
    "# Quick tip: use info() to get a glance at the size and attributes of the dataset\n",
    "df.info()"
   ]
  },
  {
   "cell_type": "code",
   "execution_count": 17,
   "metadata": {},
   "outputs": [
    {
     "data": {
      "text/html": [
       "<div>\n",
       "<style scoped>\n",
       "    .dataframe tbody tr th:only-of-type {\n",
       "        vertical-align: middle;\n",
       "    }\n",
       "\n",
       "    .dataframe tbody tr th {\n",
       "        vertical-align: top;\n",
       "    }\n",
       "\n",
       "    .dataframe thead th {\n",
       "        text-align: right;\n",
       "    }\n",
       "</style>\n",
       "<table border=\"1\" class=\"dataframe\">\n",
       "  <thead>\n",
       "    <tr style=\"text-align: right;\">\n",
       "      <th></th>\n",
       "      <th>fixed acidity</th>\n",
       "      <th>volatile acidity</th>\n",
       "      <th>citric acid</th>\n",
       "      <th>residual sugar</th>\n",
       "      <th>chlorides</th>\n",
       "      <th>free sulfur dioxide</th>\n",
       "      <th>total sulfur dioxide</th>\n",
       "      <th>density</th>\n",
       "      <th>pH</th>\n",
       "      <th>sulphates</th>\n",
       "      <th>alcohol</th>\n",
       "      <th>quality</th>\n",
       "    </tr>\n",
       "  </thead>\n",
       "  <tbody>\n",
       "    <tr>\n",
       "      <th>0</th>\n",
       "      <td>7.0</td>\n",
       "      <td>0.27</td>\n",
       "      <td>0.36</td>\n",
       "      <td>20.7</td>\n",
       "      <td>0.045</td>\n",
       "      <td>45.0</td>\n",
       "      <td>170.0</td>\n",
       "      <td>1.0010</td>\n",
       "      <td>3.00</td>\n",
       "      <td>0.45</td>\n",
       "      <td>8.8</td>\n",
       "      <td>6</td>\n",
       "    </tr>\n",
       "    <tr>\n",
       "      <th>1</th>\n",
       "      <td>6.3</td>\n",
       "      <td>0.30</td>\n",
       "      <td>0.34</td>\n",
       "      <td>1.6</td>\n",
       "      <td>0.049</td>\n",
       "      <td>14.0</td>\n",
       "      <td>132.0</td>\n",
       "      <td>0.9940</td>\n",
       "      <td>3.30</td>\n",
       "      <td>0.49</td>\n",
       "      <td>9.5</td>\n",
       "      <td>6</td>\n",
       "    </tr>\n",
       "    <tr>\n",
       "      <th>2</th>\n",
       "      <td>8.1</td>\n",
       "      <td>0.28</td>\n",
       "      <td>0.40</td>\n",
       "      <td>6.9</td>\n",
       "      <td>0.050</td>\n",
       "      <td>30.0</td>\n",
       "      <td>97.0</td>\n",
       "      <td>0.9951</td>\n",
       "      <td>3.26</td>\n",
       "      <td>0.44</td>\n",
       "      <td>10.1</td>\n",
       "      <td>6</td>\n",
       "    </tr>\n",
       "    <tr>\n",
       "      <th>3</th>\n",
       "      <td>7.2</td>\n",
       "      <td>0.23</td>\n",
       "      <td>0.32</td>\n",
       "      <td>8.5</td>\n",
       "      <td>0.058</td>\n",
       "      <td>47.0</td>\n",
       "      <td>186.0</td>\n",
       "      <td>0.9956</td>\n",
       "      <td>3.19</td>\n",
       "      <td>0.40</td>\n",
       "      <td>9.9</td>\n",
       "      <td>6</td>\n",
       "    </tr>\n",
       "    <tr>\n",
       "      <th>4</th>\n",
       "      <td>7.2</td>\n",
       "      <td>0.23</td>\n",
       "      <td>0.32</td>\n",
       "      <td>8.5</td>\n",
       "      <td>0.058</td>\n",
       "      <td>47.0</td>\n",
       "      <td>186.0</td>\n",
       "      <td>0.9956</td>\n",
       "      <td>3.19</td>\n",
       "      <td>0.40</td>\n",
       "      <td>9.9</td>\n",
       "      <td>6</td>\n",
       "    </tr>\n",
       "    <tr>\n",
       "      <th>5</th>\n",
       "      <td>8.1</td>\n",
       "      <td>0.28</td>\n",
       "      <td>0.40</td>\n",
       "      <td>6.9</td>\n",
       "      <td>0.050</td>\n",
       "      <td>30.0</td>\n",
       "      <td>97.0</td>\n",
       "      <td>0.9951</td>\n",
       "      <td>3.26</td>\n",
       "      <td>0.44</td>\n",
       "      <td>10.1</td>\n",
       "      <td>6</td>\n",
       "    </tr>\n",
       "    <tr>\n",
       "      <th>6</th>\n",
       "      <td>6.2</td>\n",
       "      <td>0.32</td>\n",
       "      <td>0.16</td>\n",
       "      <td>7.0</td>\n",
       "      <td>0.045</td>\n",
       "      <td>30.0</td>\n",
       "      <td>136.0</td>\n",
       "      <td>0.9949</td>\n",
       "      <td>3.18</td>\n",
       "      <td>0.47</td>\n",
       "      <td>9.6</td>\n",
       "      <td>6</td>\n",
       "    </tr>\n",
       "    <tr>\n",
       "      <th>7</th>\n",
       "      <td>7.0</td>\n",
       "      <td>0.27</td>\n",
       "      <td>0.36</td>\n",
       "      <td>20.7</td>\n",
       "      <td>0.045</td>\n",
       "      <td>45.0</td>\n",
       "      <td>170.0</td>\n",
       "      <td>1.0010</td>\n",
       "      <td>3.00</td>\n",
       "      <td>0.45</td>\n",
       "      <td>8.8</td>\n",
       "      <td>6</td>\n",
       "    </tr>\n",
       "    <tr>\n",
       "      <th>8</th>\n",
       "      <td>6.3</td>\n",
       "      <td>0.30</td>\n",
       "      <td>0.34</td>\n",
       "      <td>1.6</td>\n",
       "      <td>0.049</td>\n",
       "      <td>14.0</td>\n",
       "      <td>132.0</td>\n",
       "      <td>0.9940</td>\n",
       "      <td>3.30</td>\n",
       "      <td>0.49</td>\n",
       "      <td>9.5</td>\n",
       "      <td>6</td>\n",
       "    </tr>\n",
       "    <tr>\n",
       "      <th>9</th>\n",
       "      <td>8.1</td>\n",
       "      <td>0.22</td>\n",
       "      <td>0.43</td>\n",
       "      <td>1.5</td>\n",
       "      <td>0.044</td>\n",
       "      <td>28.0</td>\n",
       "      <td>129.0</td>\n",
       "      <td>0.9938</td>\n",
       "      <td>3.22</td>\n",
       "      <td>0.45</td>\n",
       "      <td>11.0</td>\n",
       "      <td>6</td>\n",
       "    </tr>\n",
       "  </tbody>\n",
       "</table>\n",
       "</div>"
      ],
      "text/plain": [
       "   fixed acidity  volatile acidity  citric acid  residual sugar  chlorides  \\\n",
       "0            7.0              0.27         0.36            20.7      0.045   \n",
       "1            6.3              0.30         0.34             1.6      0.049   \n",
       "2            8.1              0.28         0.40             6.9      0.050   \n",
       "3            7.2              0.23         0.32             8.5      0.058   \n",
       "4            7.2              0.23         0.32             8.5      0.058   \n",
       "5            8.1              0.28         0.40             6.9      0.050   \n",
       "6            6.2              0.32         0.16             7.0      0.045   \n",
       "7            7.0              0.27         0.36            20.7      0.045   \n",
       "8            6.3              0.30         0.34             1.6      0.049   \n",
       "9            8.1              0.22         0.43             1.5      0.044   \n",
       "\n",
       "   free sulfur dioxide  total sulfur dioxide  density    pH  sulphates  \\\n",
       "0                 45.0                 170.0   1.0010  3.00       0.45   \n",
       "1                 14.0                 132.0   0.9940  3.30       0.49   \n",
       "2                 30.0                  97.0   0.9951  3.26       0.44   \n",
       "3                 47.0                 186.0   0.9956  3.19       0.40   \n",
       "4                 47.0                 186.0   0.9956  3.19       0.40   \n",
       "5                 30.0                  97.0   0.9951  3.26       0.44   \n",
       "6                 30.0                 136.0   0.9949  3.18       0.47   \n",
       "7                 45.0                 170.0   1.0010  3.00       0.45   \n",
       "8                 14.0                 132.0   0.9940  3.30       0.49   \n",
       "9                 28.0                 129.0   0.9938  3.22       0.45   \n",
       "\n",
       "   alcohol  quality  \n",
       "0      8.8        6  \n",
       "1      9.5        6  \n",
       "2     10.1        6  \n",
       "3      9.9        6  \n",
       "4      9.9        6  \n",
       "5     10.1        6  \n",
       "6      9.6        6  \n",
       "7      8.8        6  \n",
       "8      9.5        6  \n",
       "9     11.0        6  "
      ]
     },
     "execution_count": 17,
     "metadata": {},
     "output_type": "execute_result"
    }
   ],
   "source": [
    "# Let's look at a few rows of our dataframe\n",
    "df.head(10)"
   ]
  },
  {
   "cell_type": "code",
   "execution_count": 18,
   "metadata": {},
   "outputs": [
    {
     "data": {
      "text/plain": [
       "(4898, 12)"
      ]
     },
     "execution_count": 18,
     "metadata": {},
     "output_type": "execute_result"
    }
   ],
   "source": [
    "# how many records do we have?\n",
    "df.shape"
   ]
  },
  {
   "cell_type": "markdown",
   "metadata": {},
   "source": [
    "### Pre-processing data"
   ]
  },
  {
   "cell_type": "code",
   "execution_count": 19,
   "metadata": {},
   "outputs": [],
   "source": [
    "## header right now: fixed acidity;volatile acidity;citric acid;residual sugar;chlorides;free sulfur dioxide;total sulfur dioxide;density;pH;sulphates;alcohol;quality\n",
    "col_names = df.columns\n",
    "col_names = [x for x in col_names]"
   ]
  },
  {
   "cell_type": "markdown",
   "metadata": {},
   "source": [
    "#### all columns are numerical and the last one 'quality' is what we want to predict\n",
    "#### Note: quality is a score between 0 (very bad) and 10 (excellent)"
   ]
  },
  {
   "cell_type": "code",
   "execution_count": 20,
   "metadata": {},
   "outputs": [],
   "source": [
    "# grab all the data as a numpy array\n",
    "all_xy = np.asarray(df, dtype='float64')\n",
    "assert all_xy.shape[1] == 12\n",
    "\n",
    "label_col_idx = all_xy.shape[1]-1\n",
    "features_col_idx = range(0, label_col_idx)"
   ]
  },
  {
   "cell_type": "markdown",
   "metadata": {},
   "source": [
    "#### Let's separate features from labels"
   ]
  },
  {
   "cell_type": "code",
   "execution_count": 21,
   "metadata": {},
   "outputs": [],
   "source": [
    "# separate features from the label\n",
    "all_x = all_xy[:,features_col_idx]\n",
    "all_y = all_xy[:,label_col_idx]\n",
    "all_y = all_y.astype(int)"
   ]
  },
  {
   "cell_type": "markdown",
   "metadata": {},
   "source": [
    "### Train, Test, Validation Split"
   ]
  },
  {
   "cell_type": "code",
   "execution_count": 22,
   "metadata": {},
   "outputs": [],
   "source": [
    "# now split between train, test, and validation\n",
    "prop_vec = [14, 3, 3]\n",
    "train_x, train_y, test_x, test_y, val_x, val_y = utils.train_test_val_split(all_x, all_y, prop_vec, shuffle=True)"
   ]
  },
  {
   "cell_type": "code",
   "execution_count": 23,
   "metadata": {},
   "outputs": [
    {
     "data": {
      "text/plain": [
       "((3429, 11), (3429,), (735, 11), (735,), (734, 11), (734,))"
      ]
     },
     "execution_count": 23,
     "metadata": {},
     "output_type": "execute_result"
    }
   ],
   "source": [
    "# sanity check shapes\n",
    "train_x.shape, train_y.shape, test_x.shape, test_y.shape, val_x.shape, val_y.shape"
   ]
  },
  {
   "cell_type": "markdown",
   "metadata": {},
   "source": [
    "### Stats & Looking at the data"
   ]
  },
  {
   "cell_type": "code",
   "execution_count": 24,
   "metadata": {},
   "outputs": [
    {
     "name": "stdout",
     "output_type": "stream",
     "text": [
      "--- quality ---\n",
      "3: 17\n",
      "4: 118\n",
      "5: 997\n",
      "6: 1530\n",
      "7: 644\n",
      "8: 120\n",
      "9: 3\n"
     ]
    }
   ],
   "source": [
    "# what does the distribution of labels look like?\n",
    "label_name = col_names[-1]\n",
    "utils.print_array_hist(train_y, label=label_name)"
   ]
  },
  {
   "cell_type": "markdown",
   "metadata": {},
   "source": [
    "### Clearly, this is not a balanced dataset (we will see later on why this can matter)"
   ]
  },
  {
   "cell_type": "code",
   "execution_count": 25,
   "metadata": {},
   "outputs": [
    {
     "data": {
      "image/png": "[encoded data removed]",
      "text/plain": [
       "<Figure size 640x480 with 1 Axes>"
      ]
     },
     "metadata": {},
     "output_type": "display_data"
    }
   ],
   "source": [
    "# let's plot a histogram to visualize the distribution of labels\n",
    "bins = np.arange(-1, 11) + 0.5\n",
    "\n",
    "plt.hist(train_y, bins, density=False, alpha=0.5, edgecolor='k', label=label_name)\n",
    "\n",
    "plt.xticks(np.arange(11))\n",
    "plt.xlabel(label_name)\n",
    "plt.ylabel('Frequency')\n",
    "plt.show()"
   ]
  },
  {
   "cell_type": "markdown",
   "metadata": {},
   "source": [
    "### Question: what do you think is a good baseline for predicting the quality exactly?"
   ]
  },
  {
   "cell_type": "code",
   "execution_count": 26,
   "metadata": {},
   "outputs": [
    {
     "name": "stdout",
     "output_type": "stream",
     "text": [
      "--- fixed acidity ---\n",
      "min: 3.80\n",
      "max: 11.80\n",
      "mean (+- std): 6.85 (+- 0.84)\n",
      "\n",
      "--- volatile acidity ---\n",
      "min: 0.08\n",
      "max: 1.00\n",
      "mean (+- std): 0.28 (+- 0.10)\n",
      "\n",
      "--- citric acid ---\n",
      "min: 0.00\n",
      "max: 1.66\n",
      "mean (+- std): 0.33 (+- 0.12)\n",
      "\n",
      "--- residual sugar ---\n",
      "min: 0.70\n",
      "max: 65.80\n",
      "mean (+- std): 6.36 (+- 5.11)\n",
      "\n",
      "--- chlorides ---\n",
      "min: 0.01\n",
      "max: 0.35\n",
      "mean (+- std): 0.05 (+- 0.02)\n",
      "\n",
      "--- free sulfur dioxide ---\n",
      "min: 2.00\n",
      "max: 289.00\n",
      "mean (+- std): 35.23 (+- 17.11)\n",
      "\n",
      "--- total sulfur dioxide ---\n",
      "min: 9.00\n",
      "max: 440.00\n",
      "mean (+- std): 137.91 (+- 42.34)\n",
      "\n",
      "--- density ---\n",
      "min: 0.99\n",
      "max: 1.04\n",
      "mean (+- std): 0.99 (+- 0.00)\n",
      "\n",
      "--- pH ---\n",
      "min: 2.72\n",
      "max: 3.82\n",
      "mean (+- std): 3.19 (+- 0.15)\n",
      "\n",
      "--- sulphates ---\n",
      "min: 0.22\n",
      "max: 1.08\n",
      "mean (+- std): 0.49 (+- 0.12)\n",
      "\n",
      "--- alcohol ---\n",
      "min: 8.00\n",
      "max: 14.05\n",
      "mean (+- std): 10.53 (+- 1.24)\n",
      "\n"
     ]
    }
   ],
   "source": [
    "# what does the distribution of features look like?\n",
    "for i in range(train_x.shape[1]):\n",
    "    utils.print_array_basic_stats(train_x[:, i], label=col_names[i])\n",
    "    print()"
   ]
  },
  {
   "cell_type": "markdown",
   "metadata": {},
   "source": [
    "### Question: Do the features even help us predict the quality?"
   ]
  },
  {
   "cell_type": "code",
   "execution_count": 27,
   "metadata": {},
   "outputs": [
    {
     "data": {
      "image/png": "[encoded data removed]",
      "text/plain": [
       "<Figure size 640x480 with 1 Axes>"
      ]
     },
     "metadata": {},
     "output_type": "display_data"
    }
   ],
   "source": [
    "# plot feature distribution based on quality\n",
    "\n",
    "#feature_idx = 0; bins = np.linspace(3, 12, 12)\n",
    "#feature_idx = 3; bins = np.linspace(0, 70, 20)\n",
    "feature_idx = 10; bins = np.linspace(7, 15, 12)\n",
    "\n",
    "lowq_idx = train_y == 4 # low quality wines\n",
    "highq_idx = train_y == 8 # high quality wines\n",
    "\n",
    "plt.hist(train_x[lowq_idx,feature_idx], bins, density=True, alpha=0.5, edgecolor='k', label='Low quality')\n",
    "plt.hist(train_x[highq_idx,feature_idx], bins, density=True, alpha=0.5, edgecolor='k', label='High quality')\n",
    "\n",
    "plt.xlabel('{}'.format(col_names[feature_idx]))\n",
    "plt.ylabel('Density')\n",
    "\n",
    "plt.legend(loc='upper right')\n",
    "plt.show()"
   ]
  },
  {
   "cell_type": "markdown",
   "metadata": {},
   "source": [
    "### Can we look at the statistical information that features contain about the task in a systematic way?"
   ]
  },
  {
   "cell_type": "code",
   "execution_count": 28,
   "metadata": {},
   "outputs": [
    {
     "data": {
      "image/png": "[encoded data removed]",
      "text/plain": [
       "<Figure size 1400x1400 with 2 Axes>"
      ]
     },
     "metadata": {},
     "output_type": "display_data"
    }
   ],
   "source": [
    "# Hint: this may be in your assignment!\n",
    "\n",
    "train_xy = np.hstack((train_x, train_y.reshape(-1, 1)))\n",
    "\n",
    "pairwise_corr = np.corrcoef(train_xy, rowvar=False)\n",
    "\n",
    "plots.heatmap(pairwise_corr, col_names, col_names, rot=90, fsz=(14, 14))"
   ]
  },
  {
   "cell_type": "markdown",
   "metadata": {},
   "source": [
    "### [Left as exercise]: use Pandas' scatter_matrix to look at scatter plots for the correlation. *Good exercise"
   ]
  },
  {
   "cell_type": "code",
   "execution_count": 29,
   "metadata": {},
   "outputs": [],
   "source": [
    "## Ref: https://pandas.pydata.org/docs/reference/api/pandas.plotting.scatter_matrix.html"
   ]
  },
  {
   "cell_type": "code",
   "execution_count": null,
   "metadata": {},
   "outputs": [],
   "source": []
  },
  {
   "cell_type": "markdown",
   "metadata": {},
   "source": [
    "## How do we scale features??"
   ]
  },
  {
   "cell_type": "markdown",
   "metadata": {},
   "source": [
    "### Let's implement [-1, 1] - normalization"
   ]
  },
  {
   "cell_type": "code",
   "execution_count": 30,
   "metadata": {},
   "outputs": [],
   "source": [
    "low = -1.0\n",
    "high = +1.0"
   ]
  },
  {
   "cell_type": "markdown",
   "metadata": {},
   "source": [
    "#### Way #1: Use scikit-learn "
   ]
  },
  {
   "cell_type": "code",
   "execution_count": 31,
   "metadata": {},
   "outputs": [
    {
     "name": "stdout",
     "output_type": "stream",
     "text": [
      "Time (Scikit-Learn MinMaxScaler): 0.0006 seconds\n"
     ]
    }
   ],
   "source": [
    "from sklearn.preprocessing import MinMaxScaler\n",
    "\n",
    "scaled_all_x = all_x.copy() # make a copy\n",
    "\n",
    "st = time.process_time()\n",
    "\n",
    "# we can use min-max scaler for this, but we need to specify the feature range!\n",
    "scaler = MinMaxScaler(feature_range=(low, high))\n",
    "\n",
    "# let's do everything on all_x and then we can split it again later\n",
    "scaled_all_x = scaler.fit_transform(scaled_all_x)\n",
    "scaled_all_x_way1 = scaled_all_x\n",
    "\n",
    "et = time.process_time()\n",
    "\n",
    "print('Time (Scikit-Learn MinMaxScaler): {:.4f} seconds'.format(et - st))"
   ]
  },
  {
   "cell_type": "markdown",
   "metadata": {},
   "source": [
    "#### Way #2: Do it manually/with numpy (the slow way; don't do this!)"
   ]
  },
  {
   "cell_type": "code",
   "execution_count": 32,
   "metadata": {},
   "outputs": [
    {
     "name": "stdout",
     "output_type": "stream",
     "text": [
      "Time (manually slow/bad way): 0.1308 seconds\n"
     ]
    }
   ],
   "source": [
    "scaled_all_x = all_x.copy() # make a copy\n",
    "\n",
    "st = time.process_time()\n",
    "\n",
    "(rows, cols) = scaled_all_x.shape\n",
    "# iterate over each feature\n",
    "for j in range(0, cols):\n",
    "    feature_j_min = np.inf\n",
    "    feature_j_max = -np.inf\n",
    "    # iterate over each row\n",
    "    for i in range(0, rows):\n",
    "        if scaled_all_x[i,j] > feature_j_max:\n",
    "            feature_j_max = scaled_all_x[i,j]\n",
    "        if scaled_all_x[i,j] < feature_j_min:\n",
    "            feature_j_min = scaled_all_x[i,j]\n",
    "            \n",
    "    # iterate over each row one last time\n",
    "    for i in range(0, rows):\n",
    "        scaled_all_x[i,j] = (scaled_all_x[i,j] - feature_j_min)/(feature_j_max - feature_j_min)\n",
    "        scaled_all_x[i,j] *= (high - low)\n",
    "        scaled_all_x[i,j] += low\n",
    "\n",
    "scaled_all_x_way2 = scaled_all_x\n",
    "\n",
    "et = time.process_time()\n",
    "\n",
    "print('Time (manually slow/bad way): {:.4f} seconds'.format(et - st))"
   ]
  },
  {
   "cell_type": "markdown",
   "metadata": {},
   "source": [
    "#### Way #3: Do it manually/with numpy (reasonably!)"
   ]
  },
  {
   "cell_type": "code",
   "execution_count": 33,
   "metadata": {},
   "outputs": [
    {
     "name": "stdout",
     "output_type": "stream",
     "text": [
      "Time (manually reasonable way): 0.0019 seconds\n"
     ]
    }
   ],
   "source": [
    "scaled_all_x = all_x.copy() # make a copy\n",
    "\n",
    "st = time.process_time()\n",
    "\n",
    "(rows, cols) = scaled_all_x.shape\n",
    "# iterate over each feature\n",
    "for j in range(0, cols):\n",
    "    minv = np.amin(scaled_all_x[:,j])\n",
    "    maxv = np.amax(scaled_all_x[:,j])\n",
    "    scaled_all_x[:,j] -= minv\n",
    "    scaled_all_x[:,j] /= (maxv - minv)\n",
    "    scaled_all_x[:,j] = scaled_all_x[:,j] * (high - low) + low\n",
    "    \n",
    "scaled_all_x_way3 = scaled_all_x\n",
    "\n",
    "\n",
    "et = time.process_time()\n",
    "print('Time (manually reasonable way): {:.4f} seconds'.format(et - st))"
   ]
  },
  {
   "cell_type": "markdown",
   "metadata": {},
   "source": [
    "#### Way #4: Do it manually/with numpy (better way!)"
   ]
  },
  {
   "cell_type": "code",
   "execution_count": 34,
   "metadata": {},
   "outputs": [
    {
     "name": "stdout",
     "output_type": "stream",
     "text": [
      "Time (manually better way): 0.0017 seconds\n"
     ]
    }
   ],
   "source": [
    "scaled_all_x = all_x.copy() # make a copy\n",
    "\n",
    "st = time.process_time()\n",
    "\n",
    "mins = np.amin(scaled_all_x, axis=0)\n",
    "maxs = np.amax(scaled_all_x, axis=0)\n",
    "scaled_all_x -= mins\n",
    "scaled_all_x /= (maxs - mins)\n",
    "scaled_all_x = scaled_all_x * (high - low) + low\n",
    "    \n",
    "scaled_all_x_way4 = scaled_all_x\n",
    "\n",
    "et = time.process_time()\n",
    "print('Time (manually better way): {:.4f} seconds'.format(et - st))"
   ]
  },
  {
   "cell_type": "markdown",
   "metadata": {},
   "source": [
    "## *[Left as exercise] check that all four arrays scaled_all_x_way1,2,3,4 are identical (up to numerical precision...)"
   ]
  },
  {
   "cell_type": "markdown",
   "metadata": {},
   "source": [
    "### *[Left as exercise] compare the four ways' performance by putting the code of each one in a function, then measure the time in a loop 100 times and average the results. Which way is fastest??"
   ]
  },
  {
   "cell_type": "markdown",
   "metadata": {},
   "source": [
    "## Let's split the *scaled* data!"
   ]
  },
  {
   "cell_type": "code",
   "execution_count": 35,
   "metadata": {},
   "outputs": [],
   "source": [
    "# now split between train, test, and validation!\n",
    "train_x, train_y, test_x, test_y, val_x, val_y = utils.train_test_val_split(scaled_all_x, all_y, prop_vec, shuffle=True, seed=seed)"
   ]
  },
  {
   "cell_type": "code",
   "execution_count": 36,
   "metadata": {},
   "outputs": [
    {
     "name": "stdout",
     "output_type": "stream",
     "text": [
      "--- fixed acidity ---\n",
      "min: -1.00\n",
      "max: 1.00\n",
      "mean (+- std): -0.41 (+- 0.16)\n",
      "\n",
      "--- volatile acidity ---\n",
      "min: -1.00\n",
      "max: 1.00\n",
      "mean (+- std): -0.61 (+- 0.20)\n",
      "\n",
      "--- citric acid ---\n",
      "min: -1.00\n",
      "max: 1.00\n",
      "mean (+- std): -0.60 (+- 0.15)\n",
      "\n",
      "--- residual sugar ---\n",
      "min: -1.00\n",
      "max: 1.00\n",
      "mean (+- std): -0.82 (+- 0.16)\n",
      "\n",
      "--- chlorides ---\n",
      "min: -1.00\n",
      "max: 1.00\n",
      "mean (+- std): -0.78 (+- 0.14)\n",
      "\n",
      "--- free sulfur dioxide ---\n",
      "min: -0.99\n",
      "max: 1.00\n",
      "mean (+- std): -0.77 (+- 0.12)\n",
      "\n",
      "--- total sulfur dioxide ---\n",
      "min: -1.00\n",
      "max: 1.00\n",
      "mean (+- std): -0.40 (+- 0.20)\n",
      "\n",
      "--- density ---\n",
      "min: -1.00\n",
      "max: 1.00\n",
      "mean (+- std): -0.73 (+- 0.12)\n",
      "\n",
      "--- pH ---\n",
      "min: -1.00\n",
      "max: 0.98\n",
      "mean (+- std): -0.15 (+- 0.28)\n",
      "\n",
      "--- sulphates ---\n",
      "min: -0.93\n",
      "max: 0.95\n",
      "mean (+- std): -0.37 (+- 0.27)\n",
      "\n",
      "--- alcohol ---\n",
      "min: -1.00\n",
      "max: 1.00\n",
      "mean (+- std): -0.20 (+- 0.40)\n",
      "\n"
     ]
    }
   ],
   "source": [
    "# what does the distribution of features look like now that we have done scaling?\n",
    "for i in range(train_x.shape[1]):\n",
    "    utils.print_array_basic_stats(train_x[:, i], label=col_names[i])\n",
    "    print()"
   ]
  },
  {
   "cell_type": "markdown",
   "metadata": {},
   "source": [
    "## Let's train a model"
   ]
  },
  {
   "cell_type": "markdown",
   "metadata": {},
   "source": [
    "#### SVM classifier"
   ]
  },
  {
   "cell_type": "code",
   "execution_count": 37,
   "metadata": {},
   "outputs": [],
   "source": [
    "from sklearn.svm import SVC, LinearSVC\n",
    "from sklearn.base import clone\n",
    "\n",
    "# Step 1: instantiate the model and set hyperparameters\n",
    "## refer to: https://scikit-learn.org/stable/modules/generated/sklearn.svm.SVC.html\n",
    "svm = SVC(kernel='linear', random_state=seed)\n",
    "\n",
    "# Step 2: train the model (we use the training set)\n",
    "_ = svm.fit(train_x, train_y)"
   ]
  },
  {
   "cell_type": "markdown",
   "metadata": {},
   "source": [
    "#### KNN classifier"
   ]
  },
  {
   "cell_type": "code",
   "execution_count": 38,
   "metadata": {},
   "outputs": [],
   "source": [
    "from sklearn.neighbors import KNeighborsClassifier\n",
    "# Step 1: instantiate the model and set hyperparameters\n",
    "## refer to: https://scikit-learn.org/stable/modules/generated/sklearn.neighbors.KNeighborsClassifier.html\n",
    "knn = KNeighborsClassifier(n_neighbors=1)\n",
    "\n",
    "# Step 2: train the model (we use the training set)\n",
    "_ = knn.fit(train_x, train_y)"
   ]
  },
  {
   "cell_type": "markdown",
   "metadata": {},
   "source": [
    "### Let's evaluate our models!"
   ]
  },
  {
   "cell_type": "code",
   "execution_count": 39,
   "metadata": {},
   "outputs": [],
   "source": [
    "# Evaluate the models\n",
    "# define a function to calculate accuracy\n",
    "def model_accuracy(model, x, true_y):\n",
    "    pred = model.predict(x)\n",
    "    return np.sum(pred == true_y) / true_y.shape[0]\n",
    "\n",
    "def evaluate_model(name, model, train_x, train_y, val_x, val_y, verb=True):\n",
    "    train_acc = model_accuracy(model, train_x, train_y)\n",
    "    val_acc = model_accuracy(model, val_x, val_y)\n",
    "    if verb:\n",
    "        print('[{}] Train accuracy: {:.2f}%, Val accuracy: {:.2f}%'.format(name, train_acc*100, val_acc*100))\n",
    "    return train_acc, val_acc"
   ]
  },
  {
   "cell_type": "code",
   "execution_count": 40,
   "metadata": {},
   "outputs": [
    {
     "name": "stdout",
     "output_type": "stream",
     "text": [
      "[SVM] Train accuracy: 52.58%, Val accuracy: 50.95%\n",
      "[KNN] Train accuracy: 100.00%, Val accuracy: 65.53%\n"
     ]
    }
   ],
   "source": [
    "_ = evaluate_model('SVM', svm, train_x, train_y, val_x, val_y)\n",
    "_ = evaluate_model('KNN', knn, train_x, train_y, val_x, val_y)"
   ]
  },
  {
   "cell_type": "markdown",
   "metadata": {},
   "source": [
    "### Q: Wait. What's going on with 100% accuracy?"
   ]
  },
  {
   "cell_type": "markdown",
   "metadata": {},
   "source": [
    "### Q: Is around 50% a good model? Why or why not?"
   ]
  },
  {
   "cell_type": "code",
   "execution_count": 41,
   "metadata": {},
   "outputs": [
    {
     "name": "stdout",
     "output_type": "stream",
     "text": [
      "--- Label distribution ---\n",
      "3: 15\n",
      "4: 114\n",
      "5: 1038\n",
      "6: 1537\n",
      "7: 603\n",
      "8: 118\n",
      "9: 4\n"
     ]
    }
   ],
   "source": [
    "#\n",
    "utils.print_array_hist(train_y, label='Label distribution')\n",
    "#"
   ]
  },
  {
   "cell_type": "markdown",
   "metadata": {},
   "source": [
    "## What is an appropriate baseline?"
   ]
  },
  {
   "cell_type": "code",
   "execution_count": 42,
   "metadata": {},
   "outputs": [
    {
     "name": "stdout",
     "output_type": "stream",
     "text": [
      "Mode: 6\n"
     ]
    }
   ],
   "source": [
    "### Baselines?\n",
    "# baseline: random between 1 and 10\n",
    "# --> baseline accuracy: ~10%\n",
    "\n",
    "# better baseline: predict the mode\n",
    "mode = stats.mode(train_y)[0]\n",
    "print('Mode: {}'.format(mode)) "
   ]
  },
  {
   "cell_type": "code",
   "execution_count": 43,
   "metadata": {},
   "outputs": [],
   "source": [
    "baseline_pred_y_train = (np.ones_like(train_y) * mode).astype(int)\n",
    "baseline_pred_y_val = (np.ones_like(val_y) * mode).astype(int)"
   ]
  },
  {
   "cell_type": "code",
   "execution_count": 44,
   "metadata": {},
   "outputs": [
    {
     "name": "stdout",
     "output_type": "stream",
     "text": [
      "[Baseline (mode)] Training accuracy: 44.82%, Validation accuracy: 42.23%\n"
     ]
    }
   ],
   "source": [
    "## How good is the baseline?\n",
    "def pred_accuracy(true_y, pred_y):\n",
    "    return np.sum(pred_y == true_y) / true_y.shape[0]\n",
    "\n",
    "def evaluate_baseline(name, train_y, pred_y_train, val_y, pred_y_val):\n",
    "    train_acc = pred_accuracy(train_y, pred_y_train)\n",
    "    val_acc = pred_accuracy(val_y, pred_y_val)\n",
    "    print('[{}] Training accuracy: {:.2f}%, Validation accuracy: {:.2f}%'.format(name, train_acc*100, val_acc*100))\n",
    "\n",
    "evaluate_baseline('Baseline (mode)', train_y, baseline_pred_y_train, val_y, baseline_pred_y_val)"
   ]
  },
  {
   "cell_type": "code",
   "execution_count": null,
   "metadata": {},
   "outputs": [],
   "source": []
  },
  {
   "cell_type": "code",
   "execution_count": null,
   "metadata": {},
   "outputs": [],
   "source": []
  },
  {
   "cell_type": "markdown",
   "metadata": {},
   "source": [
    "## Let's optimize hyperparameters!"
   ]
  },
  {
   "cell_type": "code",
   "execution_count": 54,
   "metadata": {},
   "outputs": [
    {
     "name": "stdout",
     "output_type": "stream",
     "text": [
      "Combination 0: kernel='linear', C=0.1\n",
      "[SVM] Train accuracy: 52.41%, Val accuracy: 50.82%\n",
      "\n",
      "Combination 1: kernel='linear', C=1.0\n",
      "[SVM] Train accuracy: 52.58%, Val accuracy: 50.95%\n",
      "\n",
      "Combination 2: kernel='linear', C=10.0\n",
      "[SVM] Train accuracy: 52.38%, Val accuracy: 51.09%\n",
      "\n",
      "Combination 3: kernel='rbf', C=0.1\n",
      "[SVM] Train accuracy: 52.73%, Val accuracy: 51.36%\n",
      "\n",
      "Combination 4: kernel='rbf', C=1.0\n",
      "[SVM] Train accuracy: 57.33%, Val accuracy: 54.77%\n",
      "\n",
      "Combination 5: kernel='rbf', C=10.0\n",
      "[SVM] Train accuracy: 61.94%, Val accuracy: 54.77%\n",
      "\n",
      "Combination 6: kernel='poly', C=0.1\n",
      "[SVM] Train accuracy: 55.53%, Val accuracy: 51.91%\n",
      "\n",
      "Combination 7: kernel='poly', C=1.0\n",
      "[SVM] Train accuracy: 58.85%, Val accuracy: 55.72%\n",
      "\n",
      "Combination 8: kernel='poly', C=10.0\n",
      "[SVM] Train accuracy: 62.26%, Val accuracy: 55.72%\n",
      "\n",
      "Combination 9: kernel='sigmoid', C=0.1\n",
      "[SVM] Train accuracy: 44.82%, Val accuracy: 42.23%\n",
      "\n",
      "Combination 10: kernel='sigmoid', C=1.0\n",
      "[SVM] Train accuracy: 44.18%, Val accuracy: 43.32%\n",
      "\n",
      "Combination 11: kernel='sigmoid', C=10.0\n",
      "[SVM] Train accuracy: 35.99%, Val accuracy: 35.42%\n",
      "\n"
     ]
    }
   ],
   "source": [
    "# we can do a grid search\n",
    "def train_and_eval(hyperparams_str, model, tr_x, tr_y, valset_x, valset_y, verb=True):\n",
    "    model.fit(tr_x, tr_y)\n",
    "    _, acc = evaluate_model(hyperparams_str, model, tr_x, tr_y, valset_x, valset_y, verb)\n",
    "    return acc\n",
    "\n",
    "i=0\n",
    "\n",
    "best_acc = 0\n",
    "for kernel in ['linear', 'rbf', 'poly', 'sigmoid']:\n",
    "    for C in [0.1, 1.0, 10.0]:\n",
    "        svm = SVC(kernel=kernel, C=C, random_state=seed)\n",
    "        hypp_str = 'kernel=\\'{}\\', C={}'.format(kernel, C)\n",
    "        \n",
    "        print('Combination {}: {}'.format(i, hypp_str))\n",
    "        acc = train_and_eval('SVM', svm, train_x, train_y, val_x, val_y)\n",
    "        print()\n",
    "        \n",
    "        if acc > best_acc:\n",
    "            best_hypp = hypp_str\n",
    "            best_acc = acc\n",
    "            best_model_gs = svm\n",
    "            \n",
    "        i += 1"
   ]
  },
  {
   "cell_type": "code",
   "execution_count": null,
   "metadata": {},
   "outputs": [],
   "source": []
  },
  {
   "cell_type": "code",
   "execution_count": 46,
   "metadata": {},
   "outputs": [],
   "source": [
    "## Why should we not use the test set?"
   ]
  },
  {
   "cell_type": "code",
   "execution_count": 47,
   "metadata": {},
   "outputs": [],
   "source": [
    "orig_test_x = test_x\n",
    "orig_test_y = test_y\n",
    "\n",
    "test2_size = 30\n",
    "\n",
    "test2_x = test_x[:test2_size]\n",
    "test2_y = test_y[:test2_size]\n",
    "\n",
    "test_x = test_x[test2_size:]\n",
    "test_y = test_y[test2_size:]"
   ]
  },
  {
   "cell_type": "code",
   "execution_count": 48,
   "metadata": {},
   "outputs": [
    {
     "name": "stdout",
     "output_type": "stream",
     "text": [
      "................................................................................................................................................................................................................................................................................................................................................................................................................\n",
      "Best hyperparams: kernel='poly', C=4.52, Accuracy: 0.6333333333333333\n"
     ]
    }
   ],
   "source": [
    "best_acc = 0\n",
    "best_hypp = None\n",
    "\n",
    "trsz = 300\n",
    "\n",
    "it = 0\n",
    "for kernel in ['linear', 'rbf', 'poly', 'sigmoid']:\n",
    "    for C in np.linspace(0.01, 10.0, 1000):\n",
    "        svm = SVC(kernel=kernel, C=C, random_state=seed)\n",
    "        hypp_str = 'kernel=\\'{}\\', C={}'.format(kernel, C)\n",
    "        \n",
    "        # notice we are using test2 as validation!\n",
    "        acc = train_and_eval('SVM', svm, train_x[:trsz], train_y[:trsz], test2_x, test2_y, verb=False)\n",
    "        \n",
    "        if acc > best_acc:\n",
    "            best_hypp = hypp_str\n",
    "            best_acc = acc\n",
    "            best_C = C\n",
    "            best_kernel = kernel\n",
    "            best_model = svm\n",
    "            \n",
    "        it += 1\n",
    "        \n",
    "        if it % 10 == 0:\n",
    "            sys.stdout.write('.')\n",
    "            sys.stdout.flush()\n",
    "            \n",
    "print('\\nBest hyperparams: {}, Accuracy: {}'.format(best_hypp, best_acc))"
   ]
  },
  {
   "cell_type": "code",
   "execution_count": 49,
   "metadata": {},
   "outputs": [
    {
     "name": "stdout",
     "output_type": "stream",
     "text": [
      "[SVM (hyperparams tuned on test2) -- val = test2] Train accuracy: 49.46%, Val accuracy: 63.33%\n",
      "[SVM (hyperparams tuned on test2) -- val = test] Train accuracy: 49.46%, Val accuracy: 49.65%\n"
     ]
    }
   ],
   "source": [
    "#best_model = SVC(kernel=best_kernel, C=best_C, random_state=seed).fit(train_x, train_y)\n",
    "\n",
    "_ = evaluate_model('SVM (hyperparams tuned on test2) -- val = test2', best_model, train_x, train_y, test2_x, test2_y)\n",
    "_ = evaluate_model('SVM (hyperparams tuned on test2) -- val = test', best_model, train_x, train_y, test_x, test_y)"
   ]
  },
  {
   "cell_type": "code",
   "execution_count": 50,
   "metadata": {},
   "outputs": [
    {
     "name": "stdout",
     "output_type": "stream",
     "text": [
      "[SVM (hyperparams tuned on test2) -- val = orig_test] Train accuracy: 49.46%, Val accuracy: 50.20%\n"
     ]
    }
   ],
   "source": [
    "_ = evaluate_model('SVM (hyperparams tuned on test2) -- val = orig_test', best_model, train_x, train_y, orig_test_x, orig_test_y)"
   ]
  },
  {
   "cell_type": "code",
   "execution_count": null,
   "metadata": {},
   "outputs": [],
   "source": []
  },
  {
   "cell_type": "code",
   "execution_count": null,
   "metadata": {},
   "outputs": [],
   "source": []
  },
  {
   "cell_type": "markdown",
   "metadata": {},
   "source": [
    "### How about the model we found before during the first grid search (the one optimized on our validation set)?"
   ]
  },
  {
   "cell_type": "code",
   "execution_count": 51,
   "metadata": {},
   "outputs": [
    {
     "name": "stdout",
     "output_type": "stream",
     "text": [
      "[SVM (hyperparams tuned on val) -- val = val] Train accuracy: 58.85%, Val accuracy: 55.72%\n",
      "[SVM (hyperparams tuned on val) -- val = orig_test] Train accuracy: 58.85%, Val accuracy: 55.92%\n"
     ]
    }
   ],
   "source": [
    "_ = evaluate_model('SVM (hyperparams tuned on val) -- val = val', best_model_gs, train_x, train_y, val_x, val_y)\n",
    "_ = evaluate_model('SVM (hyperparams tuned on val) -- val = orig_test', best_model_gs, train_x, train_y, orig_test_x, orig_test_y)"
   ]
  },
  {
   "cell_type": "code",
   "execution_count": null,
   "metadata": {},
   "outputs": [],
   "source": []
  },
  {
   "cell_type": "markdown",
   "metadata": {},
   "source": [
    "## BTW Can you save a trained model? yes!"
   ]
  },
  {
   "cell_type": "code",
   "execution_count": 52,
   "metadata": {},
   "outputs": [],
   "source": [
    "import joblib\n",
    "# you can use pickle instead but joblib is recommended\n",
    "\n",
    "fp = './ex2-best_svm_gs.joblib'\n",
    "\n",
    "# to save\n",
    "joblib.dump(best_model_gs, fp) \n",
    "\n",
    "# to load it back (later)\n",
    "best_model_gs_loaded = joblib.load(fp) \n",
    "\n",
    "## note: it may not work right if you load the model saved with a different version of scikit-learn/numpy!\n",
    "## same applies to the version of Python of course!"
   ]
  },
  {
   "cell_type": "code",
   "execution_count": 53,
   "metadata": {},
   "outputs": [
    {
     "name": "stdout",
     "output_type": "stream",
     "text": [
      "SVC(kernel='poly', random_state=1764)\n",
      "[SVM (saved)] Train accuracy: 58.85%, Val accuracy: 55.72%\n",
      "SVC(kernel='poly', random_state=1764)\n",
      "[SVM (loaded)] Train accuracy: 58.85%, Val accuracy: 55.72%\n"
     ]
    }
   ],
   "source": [
    "## is it really the same model?\n",
    "print(best_model_gs)\n",
    "_ = evaluate_model('SVM (saved)', best_model_gs, train_x, train_y, val_x, val_y)\n",
    "\n",
    "print(best_model_gs_loaded)\n",
    "_ = evaluate_model('SVM (loaded)', best_model_gs_loaded, train_x, train_y, val_x, val_y)"
   ]
  },
  {
   "cell_type": "code",
   "execution_count": null,
   "metadata": {},
   "outputs": [],
   "source": []
  },
  {
   "cell_type": "markdown",
   "metadata": {},
   "source": [
    "### *[Left as exercise] wrap joblib.dump/load into functions to save/load models but which additionally check that the versions of libraries (i.e., scikit-learn, numpy) and python are the same. For this, save an additional .json file (hint you can save a dict into a json file in one or two lines) which details the version. When you load back the model with joblib make sure the libraries & python versions match."
   ]
  },
  {
   "cell_type": "code",
   "execution_count": null,
   "metadata": {},
   "outputs": [],
   "source": []
  },
  {
   "cell_type": "code",
   "execution_count": null,
   "metadata": {},
   "outputs": [],
   "source": []
  },
  {
   "cell_type": "code",
   "execution_count": null,
   "metadata": {},
   "outputs": [],
   "source": []
  },
  {
   "cell_type": "code",
   "execution_count": null,
   "metadata": {},
   "outputs": [],
   "source": []
  }
 ],
 "metadata": {
  "kernelspec": {
   "display_name": "Python 3 (ipykernel)",
   "language": "python",
   "name": "python3"
  },
  "language_info": {
   "codemirror_mode": {
    "name": "ipython",
    "version": 3
   },
   "file_extension": ".py",
   "mimetype": "text/x-python",
   "name": "python",
   "nbconvert_exporter": "python",
   "pygments_lexer": "ipython3",
   "version": "3.9.6"
  }
 },
 "nbformat": 4,
 "nbformat_minor": 4
}
