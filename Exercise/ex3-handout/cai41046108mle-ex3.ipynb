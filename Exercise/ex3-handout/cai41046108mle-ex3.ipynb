{
 "cells": [
  {
   "cell_type": "markdown",
   "metadata": {},
   "source": [
    "# Exercise 3: Wine Regression?!"
   ]
  },
  {
   "cell_type": "code",
   "execution_count": 10,
   "metadata": {},
   "outputs": [
    {
     "name": "stdout",
     "output_type": "stream",
     "text": [
      "### Python version: 3.9.6 (default, Oct 18 2022, 12:41:40) \n",
      "[Clang 14.0.0 (clang-1400.0.29.202)]\n",
      "### NumPy version: 1.26.3\n",
      "### SciPy version: 1.11.4\n",
      "### Scikit-learn version: 1.3.2\n",
      "------------\n"
     ]
    }
   ],
   "source": [
    "# Load packages we need\n",
    "import sys\n",
    "import os\n",
    "import time\n",
    "\n",
    "import numpy as np\n",
    "import pandas as pd\n",
    "import scipy as sp\n",
    "import scipy.stats as stats\n",
    "import sklearn\n",
    "\n",
    "from matplotlib import pyplot as plt\n",
    "plt.rcParams.update({'font.size': 16})\n",
    "\n",
    "# Let's check our software versions\n",
    "print('### Python version: ' + __import__('sys').version)\n",
    "print('### NumPy version: ' + np.__version__)\n",
    "print('### SciPy version: ' + sp.__version__)\n",
    "print('### Scikit-learn version: ' + sklearn.__version__)\n",
    "print('------------')\n",
    "\n",
    "# load our packages / code\n",
    "sys.path.insert(1, './common/')\n",
    "import utils\n",
    "import plots"
   ]
  },
  {
   "cell_type": "code",
   "execution_count": 11,
   "metadata": {},
   "outputs": [],
   "source": [
    "# global parameters to control behavior of the pre-processing, ML, analysis, etc.\n",
    "seed = 17\n",
    "\n",
    "np.random.seed(seed) # deterministic seed for reproducibility"
   ]
  },
  {
   "cell_type": "markdown",
   "metadata": {},
   "source": [
    "## Interesting stuff starts now"
   ]
  },
  {
   "cell_type": "markdown",
   "metadata": {},
   "source": [
    "### Loading data"
   ]
  },
  {
   "cell_type": "code",
   "execution_count": 12,
   "metadata": {},
   "outputs": [],
   "source": [
    "# Use pandas to load the data from compressed CSV\n",
    "wine_type = 'red'\n",
    "#wine_type = 'white'\n",
    "\n",
    "df = pd.read_csv('./data/{}-wine-quality.csv'.format(wine_type), header=0, na_values='?', sep=' *; *', skipinitialspace=True, engine='python')"
   ]
  },
  {
   "cell_type": "code",
   "execution_count": 13,
   "metadata": {},
   "outputs": [],
   "source": [
    "# Check that we loaded the data as expected\n",
    "if wine_type == 'white':\n",
    "    df_expected_shape = (4898,12)\n",
    "else:\n",
    "    df_expected_shape = (1599,12)\n",
    "    \n",
    "assert df.shape == df_expected_shape, 'Unexpected shape of df!'"
   ]
  },
  {
   "cell_type": "code",
   "execution_count": 14,
   "metadata": {},
   "outputs": [
    {
     "name": "stdout",
     "output_type": "stream",
     "text": [
      "<class 'pandas.core.frame.DataFrame'>\n",
      "RangeIndex: 1599 entries, 0 to 1598\n",
      "Data columns (total 12 columns):\n",
      " #   Column                Non-Null Count  Dtype  \n",
      "---  ------                --------------  -----  \n",
      " 0   fixed acidity         1599 non-null   float64\n",
      " 1   volatile acidity      1599 non-null   float64\n",
      " 2   citric acid           1599 non-null   float64\n",
      " 3   residual sugar        1599 non-null   float64\n",
      " 4   chlorides             1599 non-null   float64\n",
      " 5   free sulfur dioxide   1599 non-null   float64\n",
      " 6   total sulfur dioxide  1599 non-null   float64\n",
      " 7   density               1599 non-null   float64\n",
      " 8   pH                    1599 non-null   float64\n",
      " 9   sulphates             1599 non-null   float64\n",
      " 10  alcohol               1599 non-null   float64\n",
      " 11  quality               1599 non-null   int64  \n",
      "dtypes: float64(11), int64(1)\n",
      "memory usage: 150.0 KB\n"
     ]
    }
   ],
   "source": [
    "# Quick tip: use info() to get a glance at the size and attributes of the dataset\n",
    "df.info()"
   ]
  },
  {
   "cell_type": "code",
   "execution_count": 15,
   "metadata": {},
   "outputs": [
    {
     "data": {
      "text/html": [
       "<div>\n",
       "<style scoped>\n",
       "    .dataframe tbody tr th:only-of-type {\n",
       "        vertical-align: middle;\n",
       "    }\n",
       "\n",
       "    .dataframe tbody tr th {\n",
       "        vertical-align: top;\n",
       "    }\n",
       "\n",
       "    .dataframe thead th {\n",
       "        text-align: right;\n",
       "    }\n",
       "</style>\n",
       "<table border=\"1\" class=\"dataframe\">\n",
       "  <thead>\n",
       "    <tr style=\"text-align: right;\">\n",
       "      <th></th>\n",
       "      <th>fixed acidity</th>\n",
       "      <th>volatile acidity</th>\n",
       "      <th>citric acid</th>\n",
       "      <th>residual sugar</th>\n",
       "      <th>chlorides</th>\n",
       "      <th>free sulfur dioxide</th>\n",
       "      <th>total sulfur dioxide</th>\n",
       "      <th>density</th>\n",
       "      <th>pH</th>\n",
       "      <th>sulphates</th>\n",
       "      <th>alcohol</th>\n",
       "      <th>quality</th>\n",
       "    </tr>\n",
       "  </thead>\n",
       "  <tbody>\n",
       "    <tr>\n",
       "      <th>0</th>\n",
       "      <td>7.4</td>\n",
       "      <td>0.70</td>\n",
       "      <td>0.00</td>\n",
       "      <td>1.9</td>\n",
       "      <td>0.076</td>\n",
       "      <td>11.0</td>\n",
       "      <td>34.0</td>\n",
       "      <td>0.9978</td>\n",
       "      <td>3.51</td>\n",
       "      <td>0.56</td>\n",
       "      <td>9.4</td>\n",
       "      <td>5</td>\n",
       "    </tr>\n",
       "    <tr>\n",
       "      <th>1</th>\n",
       "      <td>7.8</td>\n",
       "      <td>0.88</td>\n",
       "      <td>0.00</td>\n",
       "      <td>2.6</td>\n",
       "      <td>0.098</td>\n",
       "      <td>25.0</td>\n",
       "      <td>67.0</td>\n",
       "      <td>0.9968</td>\n",
       "      <td>3.20</td>\n",
       "      <td>0.68</td>\n",
       "      <td>9.8</td>\n",
       "      <td>5</td>\n",
       "    </tr>\n",
       "    <tr>\n",
       "      <th>2</th>\n",
       "      <td>7.8</td>\n",
       "      <td>0.76</td>\n",
       "      <td>0.04</td>\n",
       "      <td>2.3</td>\n",
       "      <td>0.092</td>\n",
       "      <td>15.0</td>\n",
       "      <td>54.0</td>\n",
       "      <td>0.9970</td>\n",
       "      <td>3.26</td>\n",
       "      <td>0.65</td>\n",
       "      <td>9.8</td>\n",
       "      <td>5</td>\n",
       "    </tr>\n",
       "    <tr>\n",
       "      <th>3</th>\n",
       "      <td>11.2</td>\n",
       "      <td>0.28</td>\n",
       "      <td>0.56</td>\n",
       "      <td>1.9</td>\n",
       "      <td>0.075</td>\n",
       "      <td>17.0</td>\n",
       "      <td>60.0</td>\n",
       "      <td>0.9980</td>\n",
       "      <td>3.16</td>\n",
       "      <td>0.58</td>\n",
       "      <td>9.8</td>\n",
       "      <td>6</td>\n",
       "    </tr>\n",
       "    <tr>\n",
       "      <th>4</th>\n",
       "      <td>7.4</td>\n",
       "      <td>0.70</td>\n",
       "      <td>0.00</td>\n",
       "      <td>1.9</td>\n",
       "      <td>0.076</td>\n",
       "      <td>11.0</td>\n",
       "      <td>34.0</td>\n",
       "      <td>0.9978</td>\n",
       "      <td>3.51</td>\n",
       "      <td>0.56</td>\n",
       "      <td>9.4</td>\n",
       "      <td>5</td>\n",
       "    </tr>\n",
       "    <tr>\n",
       "      <th>5</th>\n",
       "      <td>7.4</td>\n",
       "      <td>0.66</td>\n",
       "      <td>0.00</td>\n",
       "      <td>1.8</td>\n",
       "      <td>0.075</td>\n",
       "      <td>13.0</td>\n",
       "      <td>40.0</td>\n",
       "      <td>0.9978</td>\n",
       "      <td>3.51</td>\n",
       "      <td>0.56</td>\n",
       "      <td>9.4</td>\n",
       "      <td>5</td>\n",
       "    </tr>\n",
       "    <tr>\n",
       "      <th>6</th>\n",
       "      <td>7.9</td>\n",
       "      <td>0.60</td>\n",
       "      <td>0.06</td>\n",
       "      <td>1.6</td>\n",
       "      <td>0.069</td>\n",
       "      <td>15.0</td>\n",
       "      <td>59.0</td>\n",
       "      <td>0.9964</td>\n",
       "      <td>3.30</td>\n",
       "      <td>0.46</td>\n",
       "      <td>9.4</td>\n",
       "      <td>5</td>\n",
       "    </tr>\n",
       "    <tr>\n",
       "      <th>7</th>\n",
       "      <td>7.3</td>\n",
       "      <td>0.65</td>\n",
       "      <td>0.00</td>\n",
       "      <td>1.2</td>\n",
       "      <td>0.065</td>\n",
       "      <td>15.0</td>\n",
       "      <td>21.0</td>\n",
       "      <td>0.9946</td>\n",
       "      <td>3.39</td>\n",
       "      <td>0.47</td>\n",
       "      <td>10.0</td>\n",
       "      <td>7</td>\n",
       "    </tr>\n",
       "    <tr>\n",
       "      <th>8</th>\n",
       "      <td>7.8</td>\n",
       "      <td>0.58</td>\n",
       "      <td>0.02</td>\n",
       "      <td>2.0</td>\n",
       "      <td>0.073</td>\n",
       "      <td>9.0</td>\n",
       "      <td>18.0</td>\n",
       "      <td>0.9968</td>\n",
       "      <td>3.36</td>\n",
       "      <td>0.57</td>\n",
       "      <td>9.5</td>\n",
       "      <td>7</td>\n",
       "    </tr>\n",
       "    <tr>\n",
       "      <th>9</th>\n",
       "      <td>7.5</td>\n",
       "      <td>0.50</td>\n",
       "      <td>0.36</td>\n",
       "      <td>6.1</td>\n",
       "      <td>0.071</td>\n",
       "      <td>17.0</td>\n",
       "      <td>102.0</td>\n",
       "      <td>0.9978</td>\n",
       "      <td>3.35</td>\n",
       "      <td>0.80</td>\n",
       "      <td>10.5</td>\n",
       "      <td>5</td>\n",
       "    </tr>\n",
       "  </tbody>\n",
       "</table>\n",
       "</div>"
      ],
      "text/plain": [
       "   fixed acidity  volatile acidity  citric acid  residual sugar  chlorides  \\\n",
       "0            7.4              0.70         0.00             1.9      0.076   \n",
       "1            7.8              0.88         0.00             2.6      0.098   \n",
       "2            7.8              0.76         0.04             2.3      0.092   \n",
       "3           11.2              0.28         0.56             1.9      0.075   \n",
       "4            7.4              0.70         0.00             1.9      0.076   \n",
       "5            7.4              0.66         0.00             1.8      0.075   \n",
       "6            7.9              0.60         0.06             1.6      0.069   \n",
       "7            7.3              0.65         0.00             1.2      0.065   \n",
       "8            7.8              0.58         0.02             2.0      0.073   \n",
       "9            7.5              0.50         0.36             6.1      0.071   \n",
       "\n",
       "   free sulfur dioxide  total sulfur dioxide  density    pH  sulphates  \\\n",
       "0                 11.0                  34.0   0.9978  3.51       0.56   \n",
       "1                 25.0                  67.0   0.9968  3.20       0.68   \n",
       "2                 15.0                  54.0   0.9970  3.26       0.65   \n",
       "3                 17.0                  60.0   0.9980  3.16       0.58   \n",
       "4                 11.0                  34.0   0.9978  3.51       0.56   \n",
       "5                 13.0                  40.0   0.9978  3.51       0.56   \n",
       "6                 15.0                  59.0   0.9964  3.30       0.46   \n",
       "7                 15.0                  21.0   0.9946  3.39       0.47   \n",
       "8                  9.0                  18.0   0.9968  3.36       0.57   \n",
       "9                 17.0                 102.0   0.9978  3.35       0.80   \n",
       "\n",
       "   alcohol  quality  \n",
       "0      9.4        5  \n",
       "1      9.8        5  \n",
       "2      9.8        5  \n",
       "3      9.8        6  \n",
       "4      9.4        5  \n",
       "5      9.4        5  \n",
       "6      9.4        5  \n",
       "7     10.0        7  \n",
       "8      9.5        7  \n",
       "9     10.5        5  "
      ]
     },
     "execution_count": 15,
     "metadata": {},
     "output_type": "execute_result"
    }
   ],
   "source": [
    "# Let's look at a few rows of our dataframe\n",
    "df.head(10)"
   ]
  },
  {
   "cell_type": "code",
   "execution_count": 16,
   "metadata": {},
   "outputs": [
    {
     "data": {
      "text/plain": [
       "(1599, 12)"
      ]
     },
     "execution_count": 16,
     "metadata": {},
     "output_type": "execute_result"
    }
   ],
   "source": [
    "# how many records do we have?\n",
    "df.shape"
   ]
  },
  {
   "cell_type": "markdown",
   "metadata": {},
   "source": [
    "### Pre-processing data"
   ]
  },
  {
   "cell_type": "code",
   "execution_count": 17,
   "metadata": {},
   "outputs": [],
   "source": [
    "## header right now: fixed acidity;volatile acidity;citric acid;residual sugar;chlorides;free sulfur dioxide;total sulfur dioxide;density;pH;sulphates;alcohol;quality\n",
    "col_names = df.columns\n",
    "col_names = [x for x in col_names]"
   ]
  },
  {
   "cell_type": "markdown",
   "metadata": {},
   "source": [
    "#### all columns are numerical and the last one 'quality' is what we want to predict\n",
    "#### Note: quality is a score between 0 (very bad) and 10 (excellent)"
   ]
  },
  {
   "cell_type": "code",
   "execution_count": 18,
   "metadata": {},
   "outputs": [],
   "source": [
    "# grab all the data as a numpy array\n",
    "all_xy = np.asarray(df, dtype='float64')\n",
    "assert all_xy.shape[1] == 12\n",
    "\n",
    "label_col_idx = all_xy.shape[1]-1\n",
    "features_col_idx = range(0, label_col_idx)\n",
    "\n",
    "feature_names = col_names[0:label_col_idx]"
   ]
  },
  {
   "cell_type": "markdown",
   "metadata": {},
   "source": [
    "#### Let's separate features from labels"
   ]
  },
  {
   "cell_type": "code",
   "execution_count": 19,
   "metadata": {},
   "outputs": [],
   "source": [
    "# separate features from the label\n",
    "all_x = all_xy[:,features_col_idx]\n",
    "all_y = all_xy[:,label_col_idx]\n",
    "all_y = all_y.astype(int)"
   ]
  },
  {
   "cell_type": "markdown",
   "metadata": {},
   "source": [
    "### Train, Test, Validation Split"
   ]
  },
  {
   "cell_type": "code",
   "execution_count": 20,
   "metadata": {},
   "outputs": [],
   "source": [
    "# now split between train, test, and validation\n",
    "prop_vec = [14, 3, 3]\n",
    "train_x, train_y, test_x, test_y, val_x, val_y = utils.train_test_val_split(all_x, all_y, prop_vec, shuffle=True, seed=seed)"
   ]
  },
  {
   "cell_type": "code",
   "execution_count": 21,
   "metadata": {},
   "outputs": [
    {
     "data": {
      "text/plain": [
       "((1120, 11), (1120,), (240, 11), (240,), (239, 11), (239,))"
      ]
     },
     "execution_count": 21,
     "metadata": {},
     "output_type": "execute_result"
    }
   ],
   "source": [
    "# sanity check shapes\n",
    "train_x.shape, train_y.shape, test_x.shape, test_y.shape, val_x.shape, val_y.shape"
   ]
  },
  {
   "cell_type": "markdown",
   "metadata": {},
   "source": [
    "### Stats & Looking at the data"
   ]
  },
  {
   "cell_type": "code",
   "execution_count": 22,
   "metadata": {},
   "outputs": [
    {
     "name": "stdout",
     "output_type": "stream",
     "text": [
      "--- quality ---\n",
      "3: 6\n",
      "4: 31\n",
      "5: 476\n",
      "6: 456\n",
      "7: 136\n",
      "8: 15\n"
     ]
    }
   ],
   "source": [
    "# what does the distribution of labels look like?\n",
    "label_name = col_names[-1]\n",
    "utils.print_array_hist(train_y, label=label_name)"
   ]
  },
  {
   "cell_type": "markdown",
   "metadata": {},
   "source": [
    "### Clearly, this is not a balanced dataset (we will see later on why this can matter)"
   ]
  },
  {
   "cell_type": "code",
   "execution_count": 23,
   "metadata": {},
   "outputs": [
    {
     "data": {
      "image/png": "[encoded data removed]",
      "text/plain": [
       "<Figure size 640x480 with 1 Axes>"
      ]
     },
     "metadata": {},
     "output_type": "display_data"
    }
   ],
   "source": [
    "# let's plot a histogram to visualize the distribution of labels\n",
    "bins = np.arange(-1, 11) + 0.5\n",
    "\n",
    "plt.hist(train_y, bins, density=False, alpha=0.5, edgecolor='k', label=label_name)\n",
    "\n",
    "plt.xticks(np.arange(11))\n",
    "plt.xlabel(label_name)\n",
    "plt.ylabel('Frequency')\n",
    "plt.show()"
   ]
  },
  {
   "cell_type": "markdown",
   "metadata": {},
   "source": [
    "### Question: what do you think is a good baseline for predicting the quality exactly?"
   ]
  },
  {
   "cell_type": "code",
   "execution_count": 24,
   "metadata": {},
   "outputs": [
    {
     "name": "stdout",
     "output_type": "stream",
     "text": [
      "--- fixed acidity ---\n",
      "min: 4.60\n",
      "max: 15.50\n",
      "mean (+- std): 8.32 (+- 1.74)\n",
      "\n",
      "--- volatile acidity ---\n",
      "min: 0.12\n",
      "max: 1.58\n",
      "mean (+- std): 0.53 (+- 0.18)\n",
      "\n",
      "--- citric acid ---\n",
      "min: 0.00\n",
      "max: 0.79\n",
      "mean (+- std): 0.27 (+- 0.20)\n",
      "\n",
      "--- residual sugar ---\n",
      "min: 1.20\n",
      "max: 15.50\n",
      "mean (+- std): 2.52 (+- 1.38)\n",
      "\n",
      "--- chlorides ---\n",
      "min: 0.01\n",
      "max: 0.61\n",
      "mean (+- std): 0.09 (+- 0.05)\n",
      "\n",
      "--- free sulfur dioxide ---\n",
      "min: 1.00\n",
      "max: 68.00\n",
      "mean (+- std): 16.03 (+- 10.49)\n",
      "\n",
      "--- total sulfur dioxide ---\n",
      "min: 6.00\n",
      "max: 289.00\n",
      "mean (+- std): 46.83 (+- 32.69)\n",
      "\n",
      "--- density ---\n",
      "min: 0.99\n",
      "max: 1.00\n",
      "mean (+- std): 1.00 (+- 0.00)\n",
      "\n",
      "--- pH ---\n",
      "min: 2.87\n",
      "max: 4.01\n",
      "mean (+- std): 3.31 (+- 0.15)\n",
      "\n",
      "--- sulphates ---\n",
      "min: 0.33\n",
      "max: 1.98\n",
      "mean (+- std): 0.66 (+- 0.17)\n",
      "\n",
      "--- alcohol ---\n",
      "min: 8.50\n",
      "max: 14.00\n",
      "mean (+- std): 10.41 (+- 1.06)\n",
      "\n"
     ]
    }
   ],
   "source": [
    "# what does the distribution of features look like?\n",
    "for i in range(train_x.shape[1]):\n",
    "    utils.print_array_basic_stats(train_x[:, i], label=col_names[i])\n",
    "    print()"
   ]
  },
  {
   "cell_type": "markdown",
   "metadata": {},
   "source": [
    "### Question: Do the features even help us predict the quality?"
   ]
  },
  {
   "cell_type": "code",
   "execution_count": 25,
   "metadata": {},
   "outputs": [
    {
     "data": {
      "image/png": "[encoded data removed]",
      "text/plain": [
       "<Figure size 640x480 with 1 Axes>"
      ]
     },
     "metadata": {},
     "output_type": "display_data"
    }
   ],
   "source": [
    "# plot feature distribution based on quality\n",
    "\n",
    "#feature_idx = 0; bins = np.linspace(3, 12, 12)\n",
    "#feature_idx = 3; bins = np.linspace(0, 70, 20)\n",
    "feature_idx = 10; bins = np.linspace(7, 15, 12)\n",
    "\n",
    "lowq_idx = train_y == 4 # low quality wines\n",
    "highq_idx = train_y == 8 # high quality wines\n",
    "\n",
    "plt.hist(train_x[lowq_idx,feature_idx], bins, density=True, alpha=0.5, edgecolor='k', label='Low quality')\n",
    "plt.hist(train_x[highq_idx,feature_idx], bins, density=True, alpha=0.5, edgecolor='k', label='High quality')\n",
    "\n",
    "plt.xlabel('{}'.format(col_names[feature_idx]))\n",
    "plt.ylabel('Density')\n",
    "\n",
    "plt.legend(loc='upper right')\n",
    "plt.show()"
   ]
  },
  {
   "cell_type": "markdown",
   "metadata": {},
   "source": [
    "### Can we look at the statistical information that features contain about the task in a systematic way?"
   ]
  },
  {
   "cell_type": "code",
   "execution_count": 26,
   "metadata": {},
   "outputs": [
    {
     "data": {
      "image/png": "[encoded data removed]",
      "text/plain": [
       "<Figure size 1400x1400 with 2 Axes>"
      ]
     },
     "metadata": {},
     "output_type": "display_data"
    }
   ],
   "source": [
    "# Hint: this may be in your assignment!\n",
    "\n",
    "train_xy = np.hstack((train_x, train_y.reshape(-1, 1)))\n",
    "\n",
    "pairwise_corr = np.corrcoef(train_xy, rowvar=False)\n",
    "\n",
    "plots.heatmap(pairwise_corr, col_names, col_names, rot=90, fsz=(14, 14))"
   ]
  },
  {
   "cell_type": "markdown",
   "metadata": {},
   "source": [
    "### [Left as exercise]: use Pandas' scatter_matrix to look at scatter plots for the correlation. *Good exercise"
   ]
  },
  {
   "cell_type": "code",
   "execution_count": 27,
   "metadata": {},
   "outputs": [],
   "source": [
    "## Ref: https://pandas.pydata.org/docs/reference/api/pandas.plotting.scatter_matrix.html"
   ]
  },
  {
   "cell_type": "code",
   "execution_count": null,
   "metadata": {},
   "outputs": [],
   "source": []
  },
  {
   "cell_type": "markdown",
   "metadata": {},
   "source": [
    "## Rescale features"
   ]
  },
  {
   "cell_type": "code",
   "execution_count": 28,
   "metadata": {},
   "outputs": [],
   "source": [
    "from sklearn.preprocessing import StandardScaler\n",
    "\n",
    "scaler = StandardScaler(copy=True)\n",
    "scaler.fit(all_x) \n",
    "\n",
    "scaled_all_x = scaler.transform(all_x)"
   ]
  },
  {
   "cell_type": "markdown",
   "metadata": {},
   "source": [
    "## Let's split the *scaled* data!"
   ]
  },
  {
   "cell_type": "code",
   "execution_count": 29,
   "metadata": {},
   "outputs": [],
   "source": [
    "# now split between train, test, and validation!\n",
    "train_x, train_y, test_x, test_y, val_x, val_y = utils.train_test_val_split(scaled_all_x, all_y, prop_vec, shuffle=True, seed=seed)"
   ]
  },
  {
   "cell_type": "code",
   "execution_count": 30,
   "metadata": {},
   "outputs": [
    {
     "name": "stdout",
     "output_type": "stream",
     "text": [
      "--- fixed acidity ---\n",
      "min: -2.14\n",
      "max: 4.13\n",
      "mean (+- std): 0.00 (+- 1.00)\n",
      "\n",
      "--- volatile acidity ---\n",
      "min: -2.28\n",
      "max: 5.88\n",
      "mean (+- std): 0.00 (+- 1.01)\n",
      "\n",
      "--- citric acid ---\n",
      "min: -1.39\n",
      "max: 2.67\n",
      "mean (+- std): -0.00 (+- 1.00)\n",
      "\n",
      "--- residual sugar ---\n",
      "min: -0.95\n",
      "max: 9.20\n",
      "mean (+- std): -0.01 (+- 0.98)\n",
      "\n",
      "--- chlorides ---\n",
      "min: -1.60\n",
      "max: 11.13\n",
      "mean (+- std): -0.00 (+- 0.99)\n",
      "\n",
      "--- free sulfur dioxide ---\n",
      "min: -1.42\n",
      "max: 4.98\n",
      "mean (+- std): 0.01 (+- 1.00)\n",
      "\n",
      "--- total sulfur dioxide ---\n",
      "min: -1.23\n",
      "max: 7.38\n",
      "mean (+- std): 0.01 (+- 0.99)\n",
      "\n",
      "--- density ---\n",
      "min: -3.47\n",
      "max: 3.68\n",
      "mean (+- std): 0.01 (+- 0.99)\n",
      "\n",
      "--- pH ---\n",
      "min: -2.86\n",
      "max: 4.53\n",
      "mean (+- std): 0.00 (+- 0.99)\n",
      "\n",
      "--- sulphates ---\n",
      "min: -1.94\n",
      "max: 7.80\n",
      "mean (+- std): 0.03 (+- 1.03)\n",
      "\n",
      "--- alcohol ---\n",
      "min: -1.81\n",
      "max: 3.36\n",
      "mean (+- std): -0.01 (+- 0.99)\n",
      "\n"
     ]
    }
   ],
   "source": [
    "# what does the distribution of features look like now that we have done scaling?\n",
    "for i in range(train_x.shape[1]):\n",
    "    utils.print_array_basic_stats(train_x[:, i], label=col_names[i])\n",
    "    print()"
   ]
  },
  {
   "cell_type": "markdown",
   "metadata": {},
   "source": [
    "## Let's train a model"
   ]
  },
  {
   "cell_type": "code",
   "execution_count": 31,
   "metadata": {},
   "outputs": [],
   "source": [
    "# let's use the normal equation\n",
    "X = train_x\n",
    "y = train_y\n",
    "\n",
    "# add a constant feature of 1 to each row to account for the bias term\n",
    "X_with_b = np.c_[np.ones((X.shape[0],1)), X]\n",
    "\n",
    "# theta = (X^T X)^(-1) X^T  y\n",
    "XTX = X_with_b.T @ X_with_b\n",
    "# note this is exactly the same as: XTX = np.matmul(X_with_b.T, X_with_b)\n",
    "# and also exactly the same as: XTX = np.dot(X_with_b.T, X_with_b)\n",
    "\n",
    "theta = np.linalg.inv(XTX) @ X_with_b.T @ y\n",
    "\n",
    "b = theta[0]\n",
    "w = theta[1:]"
   ]
  },
  {
   "cell_type": "code",
   "execution_count": 32,
   "metadata": {},
   "outputs": [
    {
     "name": "stdout",
     "output_type": "stream",
     "text": [
      "Trained model -- w: [ 0.1345 -0.2011 -0.0419  0.0368 -0.0669  0.0543 -0.1076 -0.0985 -0.0100\n",
      "  0.1575  0.2629], b: 5.651403215857994\n"
     ]
    }
   ],
   "source": [
    "np.set_printoptions(formatter={'float': '{: 0.4f}'.format})\n",
    "print('Trained model -- w: {}, b: {}'.format(w, b))"
   ]
  },
  {
   "cell_type": "code",
   "execution_count": 33,
   "metadata": {},
   "outputs": [
    {
     "name": "stdout",
     "output_type": "stream",
     "text": [
      "[ 0.1478 -0.4042  0.2475  0.0054 -0.1271 -0.0453 -0.1920 -0.1590 -0.0515\n",
      "  0.2716  0.4801]\n",
      "[[ 1.0000  0.8855]\n",
      " [ 0.8855  1.0000]]\n"
     ]
    }
   ],
   "source": [
    "feature_corr_quality = pairwise_corr[-1,0:-1]\n",
    "print(feature_corr_quality)\n",
    "\n",
    "corr = np.corrcoef(feature_corr_quality, w, rowvar=False)\n",
    "print(corr)"
   ]
  },
  {
   "cell_type": "code",
   "execution_count": 34,
   "metadata": {},
   "outputs": [],
   "source": [
    "def linreg_predict(x):\n",
    "    return np.dot(x, w) + b"
   ]
  },
  {
   "cell_type": "code",
   "execution_count": 35,
   "metadata": {},
   "outputs": [
    {
     "name": "stdout",
     "output_type": "stream",
     "text": [
      "[ 5.7392  5.9456  5.8686  6.0670  6.1462  5.9231  5.2068  5.7719  6.0194\n",
      "  4.7814] [6 5 6 6 7 5 5 7 5 5]\n"
     ]
    }
   ],
   "source": [
    "y_pred = linreg_predict(train_x)\n",
    "\n",
    "print(y_pred[0:10], train_y[0:10])"
   ]
  },
  {
   "cell_type": "code",
   "execution_count": 36,
   "metadata": {},
   "outputs": [
    {
     "data": {
      "text/plain": [
       "5.7392134133953565"
      ]
     },
     "execution_count": 36,
     "metadata": {},
     "output_type": "execute_result"
    }
   ],
   "source": [
    "linreg_predict(train_x[0])"
   ]
  },
  {
   "cell_type": "code",
   "execution_count": 37,
   "metadata": {},
   "outputs": [
    {
     "name": "stdout",
     "output_type": "stream",
     "text": [
      "0.4857142857142857\n"
     ]
    }
   ],
   "source": [
    "from sklearn.metrics import accuracy_score\n",
    "\n",
    "train_acc = accuracy_score(y_pred.astype(int), train_y)\n",
    "print(train_acc)"
   ]
  },
  {
   "cell_type": "markdown",
   "metadata": {},
   "source": [
    "### How good is our model?"
   ]
  },
  {
   "cell_type": "code",
   "execution_count": 38,
   "metadata": {},
   "outputs": [
    {
     "name": "stdout",
     "output_type": "stream",
     "text": [
      "Training error (MSE): 0.395, Validation error (MSE): 0.445\n"
     ]
    }
   ],
   "source": [
    "from sklearn.metrics import mean_squared_error\n",
    "\n",
    "train_pred = linreg_predict(train_x)\n",
    "val_pred = linreg_predict(val_x)\n",
    "\n",
    "# measure the error (MSE) wrt true quality score\n",
    "train_error = mean_squared_error(train_pred, train_y)\n",
    "val_error = mean_squared_error(val_pred, val_y)\n",
    "\n",
    "print('Training error (MSE): {:.3f}, Validation error (MSE): {:.3f}'.format(train_error, val_error))"
   ]
  },
  {
   "cell_type": "code",
   "execution_count": 39,
   "metadata": {},
   "outputs": [
    {
     "name": "stdout",
     "output_type": "stream",
     "text": [
      "Training error (MAE): 0.493, Validation error (MAE): 0.513\n"
     ]
    }
   ],
   "source": [
    "# what about MAE?\n",
    "from sklearn.metrics import mean_absolute_error\n",
    "\n",
    "# measure the error (MAE) wrt true quality score\n",
    "train_error = mean_absolute_error(train_pred, train_y)\n",
    "val_error = mean_absolute_error(val_pred, val_y)\n",
    "\n",
    "print('Training error (MAE): {:.3f}, Validation error (MAE): {:.3f}'.format(train_error, val_error))"
   ]
  },
  {
   "cell_type": "markdown",
   "metadata": {},
   "source": [
    "### Is 0.45 MSE a good model?"
   ]
  },
  {
   "cell_type": "markdown",
   "metadata": {},
   "source": [
    "### We need a baseline to compare this to!"
   ]
  },
  {
   "cell_type": "code",
   "execution_count": 40,
   "metadata": {},
   "outputs": [
    {
     "name": "stdout",
     "output_type": "stream",
     "text": [
      "Baseline prediction mode: 5\n",
      "Baseline error (MSE): 1.062\n"
     ]
    }
   ],
   "source": [
    "# Simple baseline: always predict the mode (most frequent value)\n",
    "mode = stats.mode(train_y, keepdims=False)[0]\n",
    "baseline_pred = np.ones_like(train_pred) * mode\n",
    "print('Baseline prediction mode: {}'.format(mode))\n",
    "\n",
    "baseline_error = mean_squared_error(baseline_pred, train_y)\n",
    "print('Baseline error (MSE): {:.3f}'.format(baseline_error))"
   ]
  },
  {
   "cell_type": "code",
   "execution_count": 80,
   "metadata": {},
   "outputs": [
    {
     "name": "stdout",
     "output_type": "stream",
     "text": [
      "Baseline prediction mode: 5.632142857142857\n",
      "Baseline error (MSE): 0.638\n"
     ]
    }
   ],
   "source": [
    "# Simple baseline: always predict the mode (most frequent value)\n",
    "mean = np.mean(train_y)\n",
    "baseline_pred = np.ones_like(train_pred) * mean\n",
    "print('Baseline prediction mode: {}'.format(mean))\n",
    "\n",
    "baseline_error = mean_squared_error(baseline_pred, train_y)\n",
    "print('Baseline error (MSE): {:.3f}'.format(baseline_error))"
   ]
  },
  {
   "cell_type": "markdown",
   "metadata": {},
   "source": [
    "## Let's train a linear regression model but this time with scikit-learn!"
   ]
  },
  {
   "cell_type": "code",
   "execution_count": 41,
   "metadata": {},
   "outputs": [],
   "source": [
    "# Let's import what we need from scikit-learn\n",
    "from sklearn.linear_model import LinearRegression\n",
    "## ref: https://scikit-learn.org/0.24/modules/generated/sklearn.linear_model.LinearRegression.html\n",
    "\n",
    "lrmodel = LinearRegression().fit(train_x, train_y)"
   ]
  },
  {
   "cell_type": "markdown",
   "metadata": {},
   "source": [
    "### Another way to evaluate the model is R^2 the coefficient of determination"
   ]
  },
  {
   "cell_type": "markdown",
   "metadata": {},
   "source": [
    "### What is R^2? It's defined as: $ R^2 = 1 - \\frac{s_{\\rm err}}{s_{\\rm tot}} $ where: \n",
    "### $ s_{\\rm err} = \\sum_i (y_i - f_{{\\bf w},b}(x_i))^2 \\quad $   (called \"residual sum of squares\" --- the squared error sum for the data)\n",
    "### $ s_{\\rm tot} = \\sum_i (y_i - \\bar{y})^2 \\quad $     (called \"total sum of squares\" --- the variance of the data)\n",
    "### Here $f_{w,b}(x_i)$ is the predicted value on example $i$ and $\\bar{y}$ is average $y$ value "
   ]
  },
  {
   "cell_type": "markdown",
   "metadata": {},
   "source": [
    "### Questions: \n",
    "### 1. What is $R^2$ if we always predict the average $\\bar{y}$?\n",
    "### 2. What is the maximum value for $R^2$?\n",
    "### 3. What does it mean if $R^2 < 0$?"
   ]
  },
  {
   "cell_type": "code",
   "execution_count": 42,
   "metadata": {},
   "outputs": [
    {
     "name": "stdout",
     "output_type": "stream",
     "text": [
      "Train R^2: 0.381, Val  R^2: 0.306\n"
     ]
    }
   ],
   "source": [
    "# R^2 the coefficient of determination\n",
    "r2_train = lrmodel.score(train_x, train_y)\n",
    "r2_val = lrmodel.score(val_x, val_y)\n",
    "\n",
    "print('Train R^2: {:.3f}, Val  R^2: {:.3f}'.format(r2_train, r2_val))"
   ]
  },
  {
   "cell_type": "code",
   "execution_count": null,
   "metadata": {},
   "outputs": [],
   "source": []
  },
  {
   "cell_type": "code",
   "execution_count": 43,
   "metadata": {},
   "outputs": [
    {
     "name": "stdout",
     "output_type": "stream",
     "text": [
      "Normal Equation LinearRegression model -- w: [ 0.134540 -0.201108 -0.041938  0.036778 -0.066887  0.054307 -0.107552\n",
      " -0.098468 -0.009961  0.157509  0.262920], b: 5.651403215857994\n"
     ]
    }
   ],
   "source": [
    "np.set_printoptions(formatter={'float': '{: 0.6f}'.format})\n",
    "print('Normal Equation LinearRegression model -- w: {}, b: {}'.format(w, b))"
   ]
  },
  {
   "cell_type": "code",
   "execution_count": 44,
   "metadata": {},
   "outputs": [
    {
     "name": "stdout",
     "output_type": "stream",
     "text": [
      "Scikit-learn LinearRegression model -- w: [ 0.134540 -0.201108 -0.041938  0.036778 -0.066887  0.054307 -0.107552\n",
      " -0.098468 -0.009961  0.157509  0.262920], b: 5.651403215857993\n"
     ]
    }
   ],
   "source": [
    "wlr = lrmodel.coef_\n",
    "blr = lrmodel.intercept_\n",
    "print('Scikit-learn LinearRegression model -- w: {}, b: {}'.format(wlr, blr))"
   ]
  },
  {
   "cell_type": "markdown",
   "metadata": {},
   "source": [
    "### The two models are identical!"
   ]
  },
  {
   "cell_type": "code",
   "execution_count": 45,
   "metadata": {},
   "outputs": [
    {
     "name": "stdout",
     "output_type": "stream",
     "text": [
      "SGDRegressor model -- w: [ 0.114379 -0.198107 -0.034504  0.036583 -0.071818  0.054340 -0.105414\n",
      " -0.084430 -0.019744  0.152491  0.280091], b: [ 5.654041]\n"
     ]
    }
   ],
   "source": [
    "from sklearn.linear_model import SGDRegressor\n",
    "# Let's use SGDRegressor: https://scikit-learn.org/0.24/modules/generated/sklearn.linear_model.SGDRegressor.html\n",
    "\n",
    "sgdlrmodel = SGDRegressor(loss=\"squared_error\", penalty=None, random_state=seed).fit(train_x, train_y)\n",
    "\n",
    "wsgd = sgdlrmodel.coef_\n",
    "bsgd = sgdlrmodel.intercept_\n",
    "print('SGDRegressor model -- w: {}, b: {}'.format(wsgd, bsgd))"
   ]
  },
  {
   "cell_type": "markdown",
   "metadata": {},
   "source": [
    "### This time the model is a little bit different!"
   ]
  },
  {
   "cell_type": "code",
   "execution_count": 46,
   "metadata": {},
   "outputs": [],
   "source": [
    "def evaluate_model_mse(model):\n",
    "    # use the model to predict the quality on training data and validation data\n",
    "    train_pred = model.predict(train_x)\n",
    "    val_pred = model.predict(val_x)\n",
    "\n",
    "    # measure the error (MSE) wrt true quality score\n",
    "    train_error = mean_squared_error(train_pred, train_y)\n",
    "    val_error = mean_squared_error(val_pred, val_y)\n",
    "\n",
    "    print('Training error (MSE): {:.3f}, Validation error (MSE): {:.3f}'.format(train_error, val_error))"
   ]
  },
  {
   "cell_type": "code",
   "execution_count": 47,
   "metadata": {},
   "outputs": [
    {
     "name": "stdout",
     "output_type": "stream",
     "text": [
      "Training error (MSE): 0.395, Validation error (MSE): 0.444\n"
     ]
    }
   ],
   "source": [
    "evaluate_model_mse(sgdlrmodel)"
   ]
  },
  {
   "cell_type": "code",
   "execution_count": null,
   "metadata": {},
   "outputs": [],
   "source": []
  },
  {
   "cell_type": "markdown",
   "metadata": {},
   "source": [
    "### What if we regularize the model?"
   ]
  },
  {
   "cell_type": "code",
   "execution_count": 48,
   "metadata": {},
   "outputs": [],
   "source": [
    "# Let's import what we need from scikit-learn\n",
    "from sklearn.linear_model import Ridge\n",
    "## ref: https://scikit-learn.org/0.24/modules/generated/sklearn.linear_model.Ridge.html\n",
    "\n",
    "ridgemodel = Ridge(alpha=1.0).fit(train_x, train_y)"
   ]
  },
  {
   "cell_type": "code",
   "execution_count": 49,
   "metadata": {},
   "outputs": [
    {
     "name": "stdout",
     "output_type": "stream",
     "text": [
      "Ridge LinearRegression model -- w: [ 0.133716 -0.200839 -0.041398  0.036578 -0.066969  0.054226 -0.107541\n",
      " -0.097995 -0.010188  0.157353  0.262894], b: 5.6514018519532145\n"
     ]
    }
   ],
   "source": [
    "print('Ridge LinearRegression model -- w: {}, b: {}'.format(ridgemodel.coef_, ridgemodel.intercept_))"
   ]
  },
  {
   "cell_type": "code",
   "execution_count": 50,
   "metadata": {},
   "outputs": [
    {
     "name": "stdout",
     "output_type": "stream",
     "text": [
      "Scikit-learn LinearRegression model -- w: [ 0.134540 -0.201108 -0.041938  0.036778 -0.066887  0.054307 -0.107552\n",
      " -0.098468 -0.009961  0.157509  0.262920], b: 5.651403215857993\n"
     ]
    }
   ],
   "source": [
    "wlr = lrmodel.coef_\n",
    "blr = lrmodel.intercept_\n",
    "print('Scikit-learn LinearRegression model -- w: {}, b: {}'.format(wlr, blr))"
   ]
  },
  {
   "cell_type": "code",
   "execution_count": 51,
   "metadata": {},
   "outputs": [
    {
     "data": {
      "text/plain": [
       "0.4293931440058832"
      ]
     },
     "execution_count": 51,
     "metadata": {},
     "output_type": "execute_result"
    }
   ],
   "source": [
    "np.linalg.norm(w)"
   ]
  },
  {
   "cell_type": "code",
   "execution_count": 52,
   "metadata": {},
   "outputs": [
    {
     "data": {
      "text/plain": [
       "0.42876404881860186"
      ]
     },
     "execution_count": 52,
     "metadata": {},
     "output_type": "execute_result"
    }
   ],
   "source": [
    "np.linalg.norm(ridgemodel.coef_)"
   ]
  },
  {
   "cell_type": "code",
   "execution_count": null,
   "metadata": {},
   "outputs": [],
   "source": []
  },
  {
   "cell_type": "markdown",
   "metadata": {},
   "source": [
    "### What if we train a highly regularized model? What do the weights look like?"
   ]
  },
  {
   "cell_type": "code",
   "execution_count": 53,
   "metadata": {},
   "outputs": [
    {
     "name": "stdout",
     "output_type": "stream",
     "text": [
      "Ridge LinearRegression model -- w: [ 0.010261 -0.030077  0.016945  0.000715 -0.010003 -0.002334 -0.014144\n",
      " -0.012448 -0.002941  0.021014  0.036390], b: 5.651858819609444\n"
     ]
    }
   ],
   "source": [
    "highreg_ridge = Ridge(alpha=10000.0).fit(train_x, train_y)\n",
    "\n",
    "print('Ridge LinearRegression model -- w: {}, b: {}'.format(highreg_ridge.coef_, highreg_ridge.intercept_))"
   ]
  },
  {
   "cell_type": "code",
   "execution_count": 54,
   "metadata": {},
   "outputs": [
    {
     "data": {
      "text/plain": [
       "0.059435132077796805"
      ]
     },
     "execution_count": 54,
     "metadata": {},
     "output_type": "execute_result"
    }
   ],
   "source": [
    "np.linalg.norm(highreg_ridge.coef_)"
   ]
  },
  {
   "cell_type": "markdown",
   "metadata": {},
   "source": [
    "### Is the model any good?"
   ]
  },
  {
   "cell_type": "code",
   "execution_count": 55,
   "metadata": {},
   "outputs": [
    {
     "name": "stdout",
     "output_type": "stream",
     "text": [
      "Training error (MSE): 0.568, Validation error (MSE): 0.579\n",
      "Train R^2: 0.109, Val  R^2: 0.097\n"
     ]
    }
   ],
   "source": [
    "evaluate_model_mse(highreg_ridge)\n",
    "\n",
    "# R^2 the coefficient of determination\n",
    "r2_train = highreg_ridge.score(train_x, train_y)\n",
    "r2_val = highreg_ridge.score(val_x, val_y)\n",
    "\n",
    "print('Train R^2: {:.3f}, Val  R^2: {:.3f}'.format(r2_train, r2_val))"
   ]
  },
  {
   "cell_type": "code",
   "execution_count": null,
   "metadata": {},
   "outputs": [],
   "source": []
  },
  {
   "cell_type": "markdown",
   "metadata": {},
   "source": [
    "### Let's play with polynomial regression!"
   ]
  },
  {
   "cell_type": "code",
   "execution_count": 56,
   "metadata": {},
   "outputs": [],
   "source": [
    "# instead of adding adding polynomial combinations of features manually, we can use Scikit-learn to do it for us!\n",
    "from sklearn.preprocessing import PolynomialFeatures\n",
    "\n",
    "polyf = PolynomialFeatures(degree=3, interaction_only=False, include_bias=False)\n",
    "all_x_polyf = polyf.fit_transform(scaled_all_x.copy())"
   ]
  },
  {
   "cell_type": "code",
   "execution_count": 57,
   "metadata": {},
   "outputs": [
    {
     "name": "stdout",
     "output_type": "stream",
     "text": [
      "(1599, 11)\n",
      "(1599, 363)\n"
     ]
    }
   ],
   "source": [
    "print(scaled_all_x.shape)\n",
    "print(all_x_polyf.shape)"
   ]
  },
  {
   "cell_type": "code",
   "execution_count": 58,
   "metadata": {},
   "outputs": [],
   "source": [
    "# now split between train, test, and validation!\n",
    "train_x, train_y, test_x, test_y, val_x, val_y = utils.train_test_val_split(all_x_polyf, all_y, prop_vec, shuffle=True, seed=seed)"
   ]
  },
  {
   "cell_type": "code",
   "execution_count": 59,
   "metadata": {},
   "outputs": [],
   "source": [
    "# Let's train a linear regression model again\n",
    "polyregmodel = LinearRegression().fit(train_x, train_y)"
   ]
  },
  {
   "cell_type": "code",
   "execution_count": 60,
   "metadata": {},
   "outputs": [
    {
     "name": "stdout",
     "output_type": "stream",
     "text": [
      "Training error (MSE): 0.197, Validation error (MSE): 7.247\n",
      "Train R^2: 0.690, Val  R^2: -10.296\n"
     ]
    }
   ],
   "source": [
    "evaluate_model_mse(polyregmodel)\n",
    "\n",
    "# R^2 the coefficient of determination\n",
    "r2_train = polyregmodel.score(train_x, train_y)\n",
    "r2_val = polyregmodel.score(val_x, val_y)\n",
    "\n",
    "print('Train R^2: {:.3f}, Val  R^2: {:.3f}'.format(r2_train, r2_val))"
   ]
  },
  {
   "cell_type": "code",
   "execution_count": null,
   "metadata": {},
   "outputs": [],
   "source": []
  },
  {
   "cell_type": "code",
   "execution_count": null,
   "metadata": {},
   "outputs": [],
   "source": []
  },
  {
   "cell_type": "code",
   "execution_count": 61,
   "metadata": {},
   "outputs": [
    {
     "name": "stdout",
     "output_type": "stream",
     "text": [
      "Polynomial Regression model -- w: [ 0.091622 -0.275193 -0.169752  0.252548  0.047472 -0.181396 -0.024904\n",
      " -0.049721  0.044526  0.258708  0.331452 -0.413103 -0.024976 -0.105873\n",
      " -0.259827 -0.137033 -0.098452 -0.115021  0.864003 -0.347003 -0.060945\n",
      "  0.440134 -0.127260 -0.058229  0.011779  0.127911 -0.030405 -0.014580\n",
      "  0.076266 -0.043896 -0.059561  0.029936  0.069863  0.184008  0.178066\n",
      " -0.180273  0.128703 -0.170579  0.036942  0.083665 -0.214339 -0.105125\n",
      "  0.392307 -0.067406  0.053362  0.238240 -0.137651 -0.304428  0.268972\n",
      " -0.134693 -0.086311  0.037931 -0.349551  0.111239  0.281646 -0.391557\n",
      "  0.019293 -0.081320  0.113563 -0.133353  0.027484  0.204143 -0.069948\n",
      "  0.012971  0.064047 -0.040437 -0.203059 -0.329511  0.352131  0.171466\n",
      " -0.423739  0.012331  0.002375  0.079124 -0.206402  0.228890 -0.046821\n",
      " -0.245541 -0.120089  0.369716 -0.248658 -0.488362  0.021306  0.020228\n",
      "  0.608150 -0.635430  0.080192  0.366191  0.116676  0.213497 -0.023550\n",
      " -0.235335 -0.102638  0.220223  0.397044  0.180841 -0.170376 -0.192745\n",
      "  0.322266  0.129994  0.027321 -0.179724  0.392450 -0.576840  0.840201\n",
      " -0.158521 -0.900433 -0.111122 -0.667267  0.296066 -0.463708  0.710758\n",
      " -0.428279 -0.171763  0.456752 -0.234241  0.180586 -0.446435  0.809563\n",
      " -0.962810  0.194397  0.163382  0.003802  0.137086 -0.254427 -0.220582\n",
      "  0.218160 -0.263776 -0.057979  0.008156  0.259333  0.001118  0.336870\n",
      " -0.911999  0.826718  0.196187 -0.854317 -0.378585  0.120415  0.391378\n",
      "  0.004192  0.106816 -0.221491  0.033955  0.042339 -0.049657  0.010179\n",
      "  0.087485 -0.118310 -0.109991  0.045507  0.044030 -0.145790  0.005815\n",
      "  0.009852 -0.213718  0.048501 -0.141437 -0.200149  0.078050  0.013316\n",
      " -0.229805 -0.062906 -0.510302 -0.122656  0.317259  0.290891  0.009860\n",
      " -0.036554 -0.117686 -0.076802 -0.190941  0.161015  0.599520 -0.372930\n",
      "  0.023958  0.391249  0.013348 -0.077175  0.237985 -0.122468 -0.101162\n",
      "  0.136707  0.098520 -0.321310 -0.014589  0.030815 -0.108894 -0.187903\n",
      " -0.074207  0.198088  0.238783  0.171757 -0.005192 -0.289565 -0.055164\n",
      "  0.045303  0.220001 -0.051763  0.016854  0.143529  0.062470  0.001649\n",
      " -0.273265  0.047938  0.142747 -0.048584 -0.024875 -0.265660 -0.451460\n",
      "  0.566924 -0.205142  0.421432 -0.062150 -0.380616 -0.035351 -0.212054\n",
      "  0.369187  0.284439  0.250674 -0.055566  0.095558  0.121394 -0.109383\n",
      "  0.416993 -0.014213 -0.089116  0.073607 -0.016482 -0.608812  0.110383\n",
      "  0.040408 -0.431082  0.433140 -0.738162  0.065649  0.944843  0.363593\n",
      "  0.012272 -0.580182 -0.075991 -0.056313  0.347033 -0.028051  0.092722\n",
      "  0.056065 -0.094881  0.317347  0.095204  0.007731  0.051122 -0.195461\n",
      "  0.120744 -0.364488 -0.219646 -0.513624 -0.026957 -0.477469 -0.051300\n",
      "  0.250030 -0.311209 -0.083487  0.363683 -0.000743 -0.164910  0.191124\n",
      " -0.140567 -0.410200  0.260930 -0.633124  0.272639  0.389255 -0.419484\n",
      "  0.043489 -0.154254 -0.015399  0.074999 -0.021338  0.017874 -0.024972\n",
      " -0.051424 -0.158986  0.194793 -0.192616 -0.001456 -0.015167 -0.010280\n",
      "  0.339304  0.151990 -0.237397  0.127135  0.117386 -0.341952  0.099348\n",
      "  0.336861  0.212031 -0.290292 -0.207625  0.745789 -0.239958  0.134787\n",
      " -0.293091 -0.007109  0.291677 -0.049637 -0.079989  0.068432  0.043692\n",
      " -0.137534  0.051681 -0.025557 -0.069379  0.054609  0.176876 -0.128532\n",
      "  0.098112  0.005307 -0.053419  0.165498  0.209677 -0.269398  0.509016\n",
      " -0.004618  0.085485 -0.072838  0.023003 -0.204331  0.216206 -0.045732\n",
      "  0.009865 -0.059665  0.004019 -0.002374  0.108242 -0.304968  0.105690\n",
      " -0.389753  0.069736 -0.172265  0.051442 -0.032428  0.321461 -0.315160\n",
      "  0.423474 -0.345521 -0.316763  0.588374  0.099354 -0.055299 -0.020529\n",
      "  0.037099 -0.322342  0.232723 -0.103593  0.082618  0.127424  0.061853\n",
      " -0.188523  0.094873  0.028606 -0.072061  0.020362 -0.058871], b: 5.837331977399112\n"
     ]
    }
   ],
   "source": [
    "print('Polynomial Regression model -- w: {}, b: {}'.format(polyregmodel.coef_, polyregmodel.intercept_))"
   ]
  },
  {
   "cell_type": "code",
   "execution_count": null,
   "metadata": {},
   "outputs": [],
   "source": []
  },
  {
   "cell_type": "code",
   "execution_count": 62,
   "metadata": {},
   "outputs": [
    {
     "name": "stdout",
     "output_type": "stream",
     "text": [
      "[ 5.951271  5.862852  5.860957  6.203741  6.073868] [6 5 6 6 7]\n",
      "[ 5.827766  5.354563  5.610885  4.860663  5.381412] [5 5 7 5 5]\n"
     ]
    }
   ],
   "source": [
    "train_pred = polyregmodel.predict(train_x)\n",
    "val_pred = polyregmodel.predict(val_x)\n",
    "\n",
    "print(train_pred[0:5], train_y[0:5])\n",
    "print(val_pred[0:5], val_y[0:5])"
   ]
  },
  {
   "cell_type": "code",
   "execution_count": 63,
   "metadata": {},
   "outputs": [
    {
     "name": "stdout",
     "output_type": "stream",
     "text": [
      "Target: 4, Predicted: 5.7144173612735125, Error: 1.7144173612735125\n"
     ]
    }
   ],
   "source": [
    "max_error_idx = np.argmax(np.abs(train_pred - train_y))\n",
    "print('Target: {}, Predicted: {}, Error: {}'.format(\n",
    "    train_y[max_error_idx], train_pred[max_error_idx], train_pred[max_error_idx] - train_y[max_error_idx]))"
   ]
  },
  {
   "cell_type": "code",
   "execution_count": 64,
   "metadata": {},
   "outputs": [
    {
     "name": "stdout",
     "output_type": "stream",
     "text": [
      "Target: 4, Predicted: -32.34318651645332, Error: -36.34318651645332\n"
     ]
    }
   ],
   "source": [
    "max_error_idx = np.argmax(np.abs(val_pred - val_y))\n",
    "print('Target: {}, Predicted: {}, Error: {}'.format(\n",
    "    val_y[max_error_idx], val_pred[max_error_idx], val_pred[max_error_idx] - val_y[max_error_idx]))"
   ]
  },
  {
   "cell_type": "code",
   "execution_count": null,
   "metadata": {},
   "outputs": [],
   "source": []
  },
  {
   "cell_type": "markdown",
   "metadata": {},
   "source": [
    "## *[Left as exercise] Train a regularize Polynomial Regression model with degree 3.  Can you regularize enough to avoid overfitting but still benefit from polynomial features?"
   ]
  },
  {
   "cell_type": "code",
   "execution_count": null,
   "metadata": {},
   "outputs": [],
   "source": []
  },
  {
   "cell_type": "code",
   "execution_count": null,
   "metadata": {},
   "outputs": [],
   "source": []
  },
  {
   "cell_type": "code",
   "execution_count": 65,
   "metadata": {},
   "outputs": [],
   "source": [
    "# Let's train a linear regression model again\n",
    "polyregmodel = Ridge(alpha=100.0).fit(train_x, train_y)"
   ]
  },
  {
   "cell_type": "code",
   "execution_count": 66,
   "metadata": {},
   "outputs": [
    {
     "name": "stdout",
     "output_type": "stream",
     "text": [
      "Training error (MSE): 0.249, Validation error (MSE): 0.549\n",
      "Train R^2: 0.609, Val  R^2: 0.144\n"
     ]
    }
   ],
   "source": [
    "evaluate_model_mse(polyregmodel)\n",
    "\n",
    "# R^2 the coefficient of determination\n",
    "r2_train = polyregmodel.score(train_x, train_y)\n",
    "r2_val = polyregmodel.score(val_x, val_y)\n",
    "\n",
    "print('Train R^2: {:.3f}, Val  R^2: {:.3f}'.format(r2_train, r2_val))"
   ]
  },
  {
   "cell_type": "code",
   "execution_count": null,
   "metadata": {},
   "outputs": [],
   "source": []
  },
  {
   "cell_type": "code",
   "execution_count": null,
   "metadata": {},
   "outputs": [],
   "source": []
  },
  {
   "cell_type": "code",
   "execution_count": null,
   "metadata": {},
   "outputs": [],
   "source": []
  },
  {
   "cell_type": "code",
   "execution_count": 67,
   "metadata": {},
   "outputs": [
    {
     "name": "stdout",
     "output_type": "stream",
     "text": [
      "Most important feature: alcohol (weight: 0.263)\n"
     ]
    }
   ],
   "source": [
    "# Let's go back to Linear Regression. What is the most important feature? How can we tell?\n",
    "wlr = lrmodel.coef_\n",
    "\n",
    "mwfidx = np.argmax(np.abs(wlr))\n",
    "print('Most important feature: {} (weight: {:.3f})'.format(col_names[mwfidx], wlr[mwfidx]))"
   ]
  },
  {
   "cell_type": "code",
   "execution_count": null,
   "metadata": {},
   "outputs": [],
   "source": []
  },
  {
   "cell_type": "markdown",
   "metadata": {},
   "source": [
    "## What can happen if we have multicollinearity? Let's add a near duplicate feature and see!"
   ]
  },
  {
   "cell_type": "code",
   "execution_count": 68,
   "metadata": {},
   "outputs": [],
   "source": [
    "feature_names2 = feature_names\n",
    "feature_names2.append('alcohol-dup')\n",
    "\n",
    "all_x_alc = all_x[:,mwfidx]\n",
    "\n",
    "sigma = 0.01\n",
    "alcdup = all_x_alc + np.random.randn(all_x.shape[0]) * sigma\n",
    "\n",
    "all_x_dup = np.c_[all_x, alcdup]"
   ]
  },
  {
   "cell_type": "code",
   "execution_count": 69,
   "metadata": {},
   "outputs": [
    {
     "data": {
      "text/plain": [
       "(1599,)"
      ]
     },
     "execution_count": 69,
     "metadata": {},
     "output_type": "execute_result"
    }
   ],
   "source": [
    "alcdup.shape"
   ]
  },
  {
   "cell_type": "code",
   "execution_count": 70,
   "metadata": {},
   "outputs": [
    {
     "data": {
      "text/plain": [
       "(1599, 12)"
      ]
     },
     "execution_count": 70,
     "metadata": {},
     "output_type": "execute_result"
    }
   ],
   "source": [
    "all_x_dup.shape"
   ]
  },
  {
   "cell_type": "code",
   "execution_count": 71,
   "metadata": {},
   "outputs": [],
   "source": [
    "scaler = StandardScaler(copy=True)\n",
    "scaled_all_x_dup = scaler.fit_transform(all_x_dup)"
   ]
  },
  {
   "cell_type": "code",
   "execution_count": 72,
   "metadata": {},
   "outputs": [],
   "source": [
    "# now split between train, test, and validation!\n",
    "train_x, train_y, test_x, test_y, val_x, val_y = utils.train_test_val_split(scaled_all_x_dup, all_y, prop_vec, shuffle=True, seed=seed)"
   ]
  },
  {
   "cell_type": "code",
   "execution_count": 73,
   "metadata": {},
   "outputs": [],
   "source": [
    "model = LinearRegression().fit(train_x, train_y)"
   ]
  },
  {
   "cell_type": "code",
   "execution_count": 74,
   "metadata": {},
   "outputs": [
    {
     "name": "stdout",
     "output_type": "stream",
     "text": [
      "Dup Feature LinearRegression model -- w: [ 0.135621 -0.201374 -0.042675  0.037147 -0.066389  0.054023 -0.106681\n",
      " -0.098816 -0.009715  0.157960  1.722744 -1.459554], b: 5.651441156976977\n"
     ]
    }
   ],
   "source": [
    "print('Dup Feature LinearRegression model -- w: {}, b: {}'.format(model.coef_, model.intercept_))"
   ]
  },
  {
   "cell_type": "code",
   "execution_count": 75,
   "metadata": {},
   "outputs": [
    {
     "name": "stdout",
     "output_type": "stream",
     "text": [
      "Most important feature: alcohol (weight: 1.723)\n"
     ]
    }
   ],
   "source": [
    "wdup = model.coef_\n",
    "\n",
    "mwfidx = np.argmax(np.abs(wdup))\n",
    "print('Most important feature: {} (weight: {:.3f})'.format(feature_names2[mwfidx], wdup[mwfidx]))"
   ]
  },
  {
   "cell_type": "code",
   "execution_count": 76,
   "metadata": {},
   "outputs": [
    {
     "name": "stdout",
     "output_type": "stream",
     "text": [
      "Training error (MSE): 0.395, Validation error (MSE): 0.446\n"
     ]
    }
   ],
   "source": [
    "evaluate_model_mse(model)"
   ]
  },
  {
   "cell_type": "code",
   "execution_count": null,
   "metadata": {},
   "outputs": [],
   "source": []
  },
  {
   "cell_type": "code",
   "execution_count": null,
   "metadata": {},
   "outputs": [],
   "source": []
  },
  {
   "cell_type": "code",
   "execution_count": 77,
   "metadata": {},
   "outputs": [
    {
     "name": "stdout",
     "output_type": "stream",
     "text": [
      "Dup Feature LinearRegression model -- w: [ 0.067919 -0.201134 -0.074884  0.049036 -0.077475  0.019869 -0.085081\n",
      " -0.067129 -0.067878  0.163257  0.125320  0.166084], b: 5.639522276965394\n",
      "\n",
      "Most important feature: volatile acidity (weight: -0.201)\n",
      "Training error (MSE): 0.414, Validation error (MSE): 0.358\n"
     ]
    }
   ],
   "source": [
    "# now split between train, test, and validation!\n",
    "train_x, train_y, test_x, test_y, val_x, val_y = utils.train_test_val_split(scaled_all_x_dup, all_y, prop_vec, shuffle=True, seed=seed-1)\n",
    "\n",
    "model = LinearRegression().fit(train_x, train_y)\n",
    "print('Dup Feature LinearRegression model -- w: {}, b: {}'.format(model.coef_, model.intercept_))\n",
    "\n",
    "wdup = model.coef_\n",
    "\n",
    "mwfidx = np.argmax(np.abs(wdup))\n",
    "print('\\nMost important feature: {} (weight: {:.3f})'.format(feature_names2[mwfidx], wdup[mwfidx]))\n",
    "\n",
    "evaluate_model_mse(model)"
   ]
  },
  {
   "cell_type": "code",
   "execution_count": null,
   "metadata": {},
   "outputs": [],
   "source": []
  },
  {
   "cell_type": "code",
   "execution_count": 78,
   "metadata": {},
   "outputs": [
    {
     "name": "stdout",
     "output_type": "stream",
     "text": [
      "Dup Feature LinearRegression model -- w: [ 0.079989 -0.175212  0.000966  0.014090 -0.079904  0.077230 -0.128695\n",
      " -0.048423 -0.010041  0.184129  0.912222 -0.654480], b: 5.633922720618252\n",
      "\n",
      "Most important feature: alcohol (weight: 0.912)\n",
      "Training error (MSE): 0.408, Validation error (MSE): 0.462\n"
     ]
    }
   ],
   "source": [
    "# now split between train, test, and validation!\n",
    "train_x, train_y, test_x, test_y, val_x, val_y = utils.train_test_val_split(scaled_all_x_dup, all_y, prop_vec, shuffle=True, seed=seed*2)\n",
    "\n",
    "model = LinearRegression().fit(train_x, train_y)\n",
    "print('Dup Feature LinearRegression model -- w: {}, b: {}'.format(model.coef_, model.intercept_))\n",
    "\n",
    "wdup = model.coef_\n",
    "\n",
    "mwfidx = np.argmax(np.abs(wdup))\n",
    "print('\\nMost important feature: {} (weight: {:.3f})'.format(feature_names2[mwfidx], wdup[mwfidx]))\n",
    "evaluate_model_mse(model)"
   ]
  },
  {
   "cell_type": "code",
   "execution_count": null,
   "metadata": {},
   "outputs": [],
   "source": []
  },
  {
   "cell_type": "code",
   "execution_count": null,
   "metadata": {},
   "outputs": [],
   "source": []
  },
  {
   "cell_type": "code",
   "execution_count": null,
   "metadata": {},
   "outputs": [],
   "source": []
  }
 ],
 "metadata": {
  "kernelspec": {
   "display_name": "Python 3 (ipykernel)",
   "language": "python",
   "name": "python3"
  },
  "language_info": {
   "codemirror_mode": {
    "name": "ipython",
    "version": 3
   },
   "file_extension": ".py",
   "mimetype": "text/x-python",
   "name": "python",
   "nbconvert_exporter": "python",
   "pygments_lexer": "ipython3",
   "version": "3.9.6"
  }
 },
 "nbformat": 4,
 "nbformat_minor": 4
}
