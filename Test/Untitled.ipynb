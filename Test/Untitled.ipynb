{
 "cells": [
  {
   "cell_type": "code",
   "execution_count": 50,
   "id": "cbe3065d-1442-47dd-a2d8-14b3d329f73e",
   "metadata": {},
   "outputs": [],
   "source": [
    "import numpy as np\n",
    "\n",
    "def real_to_categ(x, bins=None, num_bins=5):\n",
    "    assert num_bins > 1  # Ensure a valid number of bins\n",
    "    n, m = x.shape  # Number of examples and features\n",
    "    \n",
    "    # If bins are not provided, create them using the min and max of each feature\n",
    "    if bins is None:\n",
    "        min_vals = np.min(x, axis=0)\n",
    "        max_vals = np.max(x, axis=0)\n",
    "        \n",
    "        # Initialize bins array\n",
    "        bins = np.zeros((m, num_bins))\n",
    "        # Create bins for each feature\n",
    "        for i in range(m):\n",
    "            bins[i] = np.linspace(min_vals[i], max_vals[i], num_bins, endpoint=True)\n",
    "    \n",
    "    # Check the shape of the bins\n",
    "    assert bins.shape == (m, num_bins), 'Invalid bins shape.'\n",
    "    \n",
    "    # Use digitize to convert all features at once\n",
    "    cat_x = np.zeros((n, m), dtype=int)\n",
    "    for i in range(m):\n",
    "        cat_x[:, i] = np.digitize(x[:, i], bins[i]) - 1  # Subtract 1 to start categories at 0\n",
    "    \n",
    "    return cat_x, bins\n",
    "\n",
    "# Example usage:\n",
    "np.random.seed(0)\n",
    "x_example = np.random.rand(10, 3)  # 10 examples, 3 features\n",
    "cat_x_example, bins_example = real_to_categ(x_example, num_bins=5)"
   ]
  },
  {
   "cell_type": "code",
   "execution_count": 51,
   "id": "debb3392-d55e-47ed-bcf2-9047bcc7838b",
   "metadata": {},
   "outputs": [
    {
     "data": {
      "text/plain": [
       "array([[0.5488135 , 0.71518937, 0.60276338],\n",
       "       [0.54488318, 0.4236548 , 0.64589411],\n",
       "       [0.43758721, 0.891773  , 0.96366276],\n",
       "       [0.38344152, 0.79172504, 0.52889492],\n",
       "       [0.56804456, 0.92559664, 0.07103606],\n",
       "       [0.0871293 , 0.0202184 , 0.83261985],\n",
       "       [0.77815675, 0.87001215, 0.97861834],\n",
       "       [0.79915856, 0.46147936, 0.78052918],\n",
       "       [0.11827443, 0.63992102, 0.14335329],\n",
       "       [0.94466892, 0.52184832, 0.41466194]])"
      ]
     },
     "execution_count": 51,
     "metadata": {},
     "output_type": "execute_result"
    }
   ],
   "source": [
    "x_example"
   ]
  },
  {
   "cell_type": "code",
   "execution_count": 52,
   "id": "16200a73-a3ff-446e-b88d-7e8345c6155e",
   "metadata": {},
   "outputs": [
    {
     "data": {
      "text/plain": [
       "array([[2, 3, 2],\n",
       "       [2, 1, 2],\n",
       "       [1, 3, 3],\n",
       "       [1, 3, 2],\n",
       "       [2, 4, 0],\n",
       "       [0, 0, 3],\n",
       "       [3, 3, 4],\n",
       "       [3, 1, 3],\n",
       "       [0, 2, 0],\n",
       "       [4, 2, 1]])"
      ]
     },
     "execution_count": 52,
     "metadata": {},
     "output_type": "execute_result"
    }
   ],
   "source": [
    "cat_x_example"
   ]
  },
  {
   "cell_type": "code",
   "execution_count": 53,
   "id": "3b397b18-56a4-469c-85f0-38c9d55a194f",
   "metadata": {},
   "outputs": [
    {
     "data": {
      "text/plain": [
       "array([[0.0871293 , 0.3015142 , 0.51589911, 0.73028401, 0.94466892],\n",
       "       [0.0202184 , 0.24656296, 0.47290752, 0.69925208, 0.92559664],\n",
       "       [0.07103606, 0.29793163, 0.5248272 , 0.75172277, 0.97861834]])"
      ]
     },
     "execution_count": 53,
     "metadata": {},
     "output_type": "execute_result"
    }
   ],
   "source": [
    "bins_example"
   ]
  },
  {
   "cell_type": "code",
   "execution_count": 49,
   "id": "7bdf12e1-af84-4592-b6a4-496657cca512",
   "metadata": {},
   "outputs": [
    {
     "data": {
      "text/plain": [
       "array([[0.0871293 , 0.25863722, 0.43014515, 0.60165307, 0.77316099],\n",
       "       [0.0202184 , 0.20129405, 0.38236969, 0.56344534, 0.74452099],\n",
       "       [0.07103606, 0.25255252, 0.43406897, 0.61558543, 0.79710189]])"
      ]
     },
     "execution_count": 49,
     "metadata": {},
     "output_type": "execute_result"
    }
   ],
   "source": [
    "bins_example"
   ]
  },
  {
   "cell_type": "code",
   "execution_count": 56,
   "id": "60e97b32-1af9-4965-9dc0-dd55b0f05a69",
   "metadata": {},
   "outputs": [],
   "source": [
    "# Assuming x is your feature matrix\n",
    "x = np.random.rand(10, 5)  # Example matrix with 100 samples and 5 features\n",
    "\n",
    "# Calculate the minimum values for each feature\n",
    "min_vals = np.min(x, axis=0)\n",
    "\n",
    "# Calculate the 67th percentiles for each feature\n",
    "percentiles_67 = np.percentile(x, 67, axis=0)\n",
    "\n",
    "# Combine min_vals and percentiles_67 to define bin edges for each feature\n",
    "bins = np.array([min_vals, percentiles_67])"
   ]
  },
  {
   "cell_type": "code",
   "execution_count": 63,
   "id": "76e81230-7cb0-47a0-9470-291947bcf3d5",
   "metadata": {},
   "outputs": [
    {
     "data": {
      "text/plain": [
       "array([[0.0243132 , 0.34261098, 0.62223106, 0.27906795, 0.20974995],\n",
       "       [0.11570323, 0.57714024, 0.69527001, 0.67195714, 0.94886102],\n",
       "       [0.00270321, 0.64719665, 0.60039224, 0.58873961, 0.96277032],\n",
       "       [0.01687167, 0.69648243, 0.81367865, 0.5098072 , 0.33396487],\n",
       "       [0.79084016, 0.09724293, 0.44203564, 0.51995237, 0.69395641],\n",
       "       [0.09088573, 0.2277595 , 0.41030156, 0.62329467, 0.88696078],\n",
       "       [0.61882617, 0.13346147, 0.98058013, 0.87178573, 0.50272076],\n",
       "       [0.92234798, 0.54138079, 0.92330607, 0.82989737, 0.96828641],\n",
       "       [0.91978281, 0.03603382, 0.174772  , 0.38913468, 0.9521427 ],\n",
       "       [0.30002892, 0.16046764, 0.88630467, 0.44639442, 0.90787559]])"
      ]
     },
     "execution_count": 63,
     "metadata": {},
     "output_type": "execute_result"
    }
   ],
   "source": [
    "x"
   ]
  },
  {
   "cell_type": "code",
   "execution_count": 60,
   "id": "bdd6fe6f-3b58-475a-92e8-07f3a5c61081",
   "metadata": {},
   "outputs": [
    {
     "data": {
      "text/plain": [
       "array([0.00270321, 0.03603382, 0.174772  , 0.27906795, 0.20974995])"
      ]
     },
     "execution_count": 60,
     "metadata": {},
     "output_type": "execute_result"
    }
   ],
   "source": [
    "min_vals"
   ]
  },
  {
   "cell_type": "code",
   "execution_count": 64,
   "id": "9ff72d32-4101-4519-b2b0-bc2cf59fe545",
   "metadata": {},
   "outputs": [
    {
     "data": {
      "text/plain": [
       "array([0.62398659, 0.54245358, 0.81585743, 0.62475455, 0.94895947])"
      ]
     },
     "execution_count": 64,
     "metadata": {},
     "output_type": "execute_result"
    }
   ],
   "source": [
    "percentiles_67"
   ]
  },
  {
   "cell_type": "code",
   "execution_count": 66,
   "id": "35b05ed1-4367-455a-a5a5-88011800b323",
   "metadata": {},
   "outputs": [
    {
     "data": {
      "text/plain": [
       "array([[0.00270321, 0.62398659],\n",
       "       [0.03603382, 0.54245358],\n",
       "       [0.174772  , 0.81585743],\n",
       "       [0.27906795, 0.62475455],\n",
       "       [0.20974995, 0.94895947]])"
      ]
     },
     "execution_count": 66,
     "metadata": {},
     "output_type": "execute_result"
    }
   ],
   "source": [
    "bins.T"
   ]
  }
 ],
 "metadata": {
  "kernelspec": {
   "display_name": "Python 3 (ipykernel)",
   "language": "python",
   "name": "python3"
  },
  "language_info": {
   "codemirror_mode": {
    "name": "ipython",
    "version": 3
   },
   "file_extension": ".py",
   "mimetype": "text/x-python",
   "name": "python",
   "nbconvert_exporter": "python",
   "pygments_lexer": "ipython3",
   "version": "3.9.6"
  }
 },
 "nbformat": 4,
 "nbformat_minor": 5
}
